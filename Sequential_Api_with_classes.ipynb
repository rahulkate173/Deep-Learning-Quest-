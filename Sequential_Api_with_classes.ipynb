{
  "nbformat": 4,
  "nbformat_minor": 0,
  "metadata": {
    "colab": {
      "provenance": []
    },
    "kernelspec": {
      "name": "python3",
      "display_name": "Python 3"
    },
    "language_info": {
      "name": "python"
    }
  },
  "cells": [
    {
      "cell_type": "code",
      "execution_count": 1,
      "metadata": {
        "id": "SlmFvItvQFfE"
      },
      "outputs": [],
      "source": [
        "import tensorflow as tf\n",
        "from tensorflow import keras\n",
        "import pandas as pd\n",
        "import numpy as np\n",
        "import matplotlib.pyplot as plt"
      ]
    },
    {
      "cell_type": "code",
      "source": [
        "## loading the data\n",
        "from keras.datasets import boston_housing\n",
        "(X_train,y_train),(X_test,y_test) = boston_housing.load_data()"
      ],
      "metadata": {
        "colab": {
          "base_uri": "https://localhost:8080/"
        },
        "id": "BrmJd4T_1QYe",
        "outputId": "8f284f50-b2ce-4776-b60c-3cc8df023021"
      },
      "execution_count": 2,
      "outputs": [
        {
          "output_type": "stream",
          "name": "stdout",
          "text": [
            "Downloading data from https://storage.googleapis.com/tensorflow/tf-keras-datasets/boston_housing.npz\n",
            "\u001b[1m57026/57026\u001b[0m \u001b[32m━━━━━━━━━━━━━━━━━━━━\u001b[0m\u001b[37m\u001b[0m \u001b[1m0s\u001b[0m 0us/step\n"
          ]
        }
      ]
    },
    {
      "cell_type": "code",
      "source": [
        "## overview of data and shape\n",
        "X_train"
      ],
      "metadata": {
        "colab": {
          "base_uri": "https://localhost:8080/"
        },
        "id": "e3aygKd11h4S",
        "outputId": "bbaed85a-db9a-40b5-ef0a-46e3b27b2e73"
      },
      "execution_count": 3,
      "outputs": [
        {
          "output_type": "execute_result",
          "data": {
            "text/plain": [
              "array([[1.23247e+00, 0.00000e+00, 8.14000e+00, ..., 2.10000e+01,\n",
              "        3.96900e+02, 1.87200e+01],\n",
              "       [2.17700e-02, 8.25000e+01, 2.03000e+00, ..., 1.47000e+01,\n",
              "        3.95380e+02, 3.11000e+00],\n",
              "       [4.89822e+00, 0.00000e+00, 1.81000e+01, ..., 2.02000e+01,\n",
              "        3.75520e+02, 3.26000e+00],\n",
              "       ...,\n",
              "       [3.46600e-02, 3.50000e+01, 6.06000e+00, ..., 1.69000e+01,\n",
              "        3.62250e+02, 7.83000e+00],\n",
              "       [2.14918e+00, 0.00000e+00, 1.95800e+01, ..., 1.47000e+01,\n",
              "        2.61950e+02, 1.57900e+01],\n",
              "       [1.43900e-02, 6.00000e+01, 2.93000e+00, ..., 1.56000e+01,\n",
              "        3.76700e+02, 4.38000e+00]])"
            ]
          },
          "metadata": {},
          "execution_count": 3
        }
      ]
    },
    {
      "cell_type": "code",
      "source": [
        "X_train.shape,y_train.shape,X_test.shape,y_test.shape"
      ],
      "metadata": {
        "colab": {
          "base_uri": "https://localhost:8080/"
        },
        "id": "WGY2BXHV1mhC",
        "outputId": "43fb5277-7358-44b2-8d48-1ab92f353bdb"
      },
      "execution_count": 4,
      "outputs": [
        {
          "output_type": "execute_result",
          "data": {
            "text/plain": [
              "((404, 13), (404,), (102, 13), (102,))"
            ]
          },
          "metadata": {},
          "execution_count": 4
        }
      ]
    },
    {
      "cell_type": "code",
      "source": [
        "## Creating model without class (abstraction)\n",
        "from keras.layers import Dense\n",
        "from keras.models import Sequential\n",
        "model = Sequential([\n",
        "    Dense(8,activation='relu',input_dim=13),\n",
        "    Dense(1,activation='linear')\n",
        "])"
      ],
      "metadata": {
        "colab": {
          "base_uri": "https://localhost:8080/"
        },
        "id": "tz41m-Av1uaI",
        "outputId": "fb6d5fb8-31df-46d1-b9dd-3439b0dc08d3"
      },
      "execution_count": 20,
      "outputs": [
        {
          "output_type": "stream",
          "name": "stderr",
          "text": [
            "/usr/local/lib/python3.12/dist-packages/keras/src/layers/core/dense.py:93: UserWarning: Do not pass an `input_shape`/`input_dim` argument to a layer. When using Sequential models, prefer using an `Input(shape)` object as the first layer in the model instead.\n",
            "  super().__init__(activity_regularizer=activity_regularizer, **kwargs)\n"
          ]
        }
      ]
    },
    {
      "cell_type": "code",
      "source": [
        "model.compile(optimizer='Adam',metrics=['mse','r2_score'],loss='mse')"
      ],
      "metadata": {
        "id": "Di5owC2H2U6T"
      },
      "execution_count": 21,
      "outputs": []
    },
    {
      "cell_type": "code",
      "source": [
        "model.summary()"
      ],
      "metadata": {
        "colab": {
          "base_uri": "https://localhost:8080/",
          "height": 193
        },
        "id": "cKHl9GZg2p8R",
        "outputId": "faea2186-cba3-4972-da50-590f5381ee84"
      },
      "execution_count": 22,
      "outputs": [
        {
          "output_type": "display_data",
          "data": {
            "text/plain": [
              "\u001b[1mModel: \"sequential_1\"\u001b[0m\n"
            ],
            "text/html": [
              "<pre style=\"white-space:pre;overflow-x:auto;line-height:normal;font-family:Menlo,'DejaVu Sans Mono',consolas,'Courier New',monospace\"><span style=\"font-weight: bold\">Model: \"sequential_1\"</span>\n",
              "</pre>\n"
            ]
          },
          "metadata": {}
        },
        {
          "output_type": "display_data",
          "data": {
            "text/plain": [
              "┏━━━━━━━━━━━━━━━━━━━━━━━━━━━━━━━━━┳━━━━━━━━━━━━━━━━━━━━━━━━┳━━━━━━━━━━━━━━━┓\n",
              "┃\u001b[1m \u001b[0m\u001b[1mLayer (type)                   \u001b[0m\u001b[1m \u001b[0m┃\u001b[1m \u001b[0m\u001b[1mOutput Shape          \u001b[0m\u001b[1m \u001b[0m┃\u001b[1m \u001b[0m\u001b[1m      Param #\u001b[0m\u001b[1m \u001b[0m┃\n",
              "┡━━━━━━━━━━━━━━━━━━━━━━━━━━━━━━━━━╇━━━━━━━━━━━━━━━━━━━━━━━━╇━━━━━━━━━━━━━━━┩\n",
              "│ dense_2 (\u001b[38;5;33mDense\u001b[0m)                 │ (\u001b[38;5;45mNone\u001b[0m, \u001b[38;5;34m8\u001b[0m)              │           \u001b[38;5;34m112\u001b[0m │\n",
              "├─────────────────────────────────┼────────────────────────┼───────────────┤\n",
              "│ dense_3 (\u001b[38;5;33mDense\u001b[0m)                 │ (\u001b[38;5;45mNone\u001b[0m, \u001b[38;5;34m1\u001b[0m)              │             \u001b[38;5;34m9\u001b[0m │\n",
              "└─────────────────────────────────┴────────────────────────┴───────────────┘\n"
            ],
            "text/html": [
              "<pre style=\"white-space:pre;overflow-x:auto;line-height:normal;font-family:Menlo,'DejaVu Sans Mono',consolas,'Courier New',monospace\">┏━━━━━━━━━━━━━━━━━━━━━━━━━━━━━━━━━┳━━━━━━━━━━━━━━━━━━━━━━━━┳━━━━━━━━━━━━━━━┓\n",
              "┃<span style=\"font-weight: bold\"> Layer (type)                    </span>┃<span style=\"font-weight: bold\"> Output Shape           </span>┃<span style=\"font-weight: bold\">       Param # </span>┃\n",
              "┡━━━━━━━━━━━━━━━━━━━━━━━━━━━━━━━━━╇━━━━━━━━━━━━━━━━━━━━━━━━╇━━━━━━━━━━━━━━━┩\n",
              "│ dense_2 (<span style=\"color: #0087ff; text-decoration-color: #0087ff\">Dense</span>)                 │ (<span style=\"color: #00d7ff; text-decoration-color: #00d7ff\">None</span>, <span style=\"color: #00af00; text-decoration-color: #00af00\">8</span>)              │           <span style=\"color: #00af00; text-decoration-color: #00af00\">112</span> │\n",
              "├─────────────────────────────────┼────────────────────────┼───────────────┤\n",
              "│ dense_3 (<span style=\"color: #0087ff; text-decoration-color: #0087ff\">Dense</span>)                 │ (<span style=\"color: #00d7ff; text-decoration-color: #00d7ff\">None</span>, <span style=\"color: #00af00; text-decoration-color: #00af00\">1</span>)              │             <span style=\"color: #00af00; text-decoration-color: #00af00\">9</span> │\n",
              "└─────────────────────────────────┴────────────────────────┴───────────────┘\n",
              "</pre>\n"
            ]
          },
          "metadata": {}
        },
        {
          "output_type": "display_data",
          "data": {
            "text/plain": [
              "\u001b[1m Total params: \u001b[0m\u001b[38;5;34m121\u001b[0m (484.00 B)\n"
            ],
            "text/html": [
              "<pre style=\"white-space:pre;overflow-x:auto;line-height:normal;font-family:Menlo,'DejaVu Sans Mono',consolas,'Courier New',monospace\"><span style=\"font-weight: bold\"> Total params: </span><span style=\"color: #00af00; text-decoration-color: #00af00\">121</span> (484.00 B)\n",
              "</pre>\n"
            ]
          },
          "metadata": {}
        },
        {
          "output_type": "display_data",
          "data": {
            "text/plain": [
              "\u001b[1m Trainable params: \u001b[0m\u001b[38;5;34m121\u001b[0m (484.00 B)\n"
            ],
            "text/html": [
              "<pre style=\"white-space:pre;overflow-x:auto;line-height:normal;font-family:Menlo,'DejaVu Sans Mono',consolas,'Courier New',monospace\"><span style=\"font-weight: bold\"> Trainable params: </span><span style=\"color: #00af00; text-decoration-color: #00af00\">121</span> (484.00 B)\n",
              "</pre>\n"
            ]
          },
          "metadata": {}
        },
        {
          "output_type": "display_data",
          "data": {
            "text/plain": [
              "\u001b[1m Non-trainable params: \u001b[0m\u001b[38;5;34m0\u001b[0m (0.00 B)\n"
            ],
            "text/html": [
              "<pre style=\"white-space:pre;overflow-x:auto;line-height:normal;font-family:Menlo,'DejaVu Sans Mono',consolas,'Courier New',monospace\"><span style=\"font-weight: bold\"> Non-trainable params: </span><span style=\"color: #00af00; text-decoration-color: #00af00\">0</span> (0.00 B)\n",
              "</pre>\n"
            ]
          },
          "metadata": {}
        }
      ]
    },
    {
      "cell_type": "code",
      "source": [
        "history = model.fit(\n",
        "    X_train,y_train,\n",
        "    validation_split = 0.2,\n",
        "    epochs=10,\n",
        "    batch_size= 40\n",
        ")"
      ],
      "metadata": {
        "colab": {
          "base_uri": "https://localhost:8080/"
        },
        "id": "tprosR2C2wub",
        "outputId": "522aa178-2cf5-4c12-dcb8-95ad92d5046d"
      },
      "execution_count": 23,
      "outputs": [
        {
          "output_type": "stream",
          "name": "stdout",
          "text": [
            "Epoch 1/10\n",
            "\u001b[1m9/9\u001b[0m \u001b[32m━━━━━━━━━━━━━━━━━━━━\u001b[0m\u001b[37m\u001b[0m \u001b[1m2s\u001b[0m 48ms/step - loss: 42031.3203 - mse: 42031.3203 - r2_score: -599.9757 - val_loss: 36101.6055 - val_mse: 36101.6055 - val_r2_score: -426.1292\n",
            "Epoch 2/10\n",
            "\u001b[1m9/9\u001b[0m \u001b[32m━━━━━━━━━━━━━━━━━━━━\u001b[0m\u001b[37m\u001b[0m \u001b[1m0s\u001b[0m 13ms/step - loss: 35241.8867 - mse: 35241.8867 - r2_score: -414.7758 - val_loss: 27603.5215 - val_mse: 27603.5215 - val_r2_score: -325.5858\n",
            "Epoch 3/10\n",
            "\u001b[1m9/9\u001b[0m \u001b[32m━━━━━━━━━━━━━━━━━━━━\u001b[0m\u001b[37m\u001b[0m \u001b[1m0s\u001b[0m 13ms/step - loss: 25819.0410 - mse: 25819.0410 - r2_score: -368.9950 - val_loss: 20483.1113 - val_mse: 20483.1113 - val_r2_score: -241.3420\n",
            "Epoch 4/10\n",
            "\u001b[1m9/9\u001b[0m \u001b[32m━━━━━━━━━━━━━━━━━━━━\u001b[0m\u001b[37m\u001b[0m \u001b[1m0s\u001b[0m 14ms/step - loss: 18414.9590 - mse: 18414.9590 - r2_score: -218.9642 - val_loss: 14853.1191 - val_mse: 14853.1191 - val_r2_score: -174.7318\n",
            "Epoch 5/10\n",
            "\u001b[1m9/9\u001b[0m \u001b[32m━━━━━━━━━━━━━━━━━━━━\u001b[0m\u001b[37m\u001b[0m \u001b[1m0s\u001b[0m 13ms/step - loss: 13008.2656 - mse: 13008.2666 - r2_score: -157.1753 - val_loss: 10523.9131 - val_mse: 10523.9131 - val_r2_score: -123.5117\n",
            "Epoch 6/10\n",
            "\u001b[1m9/9\u001b[0m \u001b[32m━━━━━━━━━━━━━━━━━━━━\u001b[0m\u001b[37m\u001b[0m \u001b[1m0s\u001b[0m 13ms/step - loss: 9833.2705 - mse: 9833.2705 - r2_score: -128.5942 - val_loss: 7204.0303 - val_mse: 7204.0303 - val_r2_score: -84.2331\n",
            "Epoch 7/10\n",
            "\u001b[1m9/9\u001b[0m \u001b[32m━━━━━━━━━━━━━━━━━━━━\u001b[0m\u001b[37m\u001b[0m \u001b[1m0s\u001b[0m 12ms/step - loss: 6210.6172 - mse: 6210.6167 - r2_score: -92.6107 - val_loss: 4802.2949 - val_mse: 4802.2949 - val_r2_score: -55.8174\n",
            "Epoch 8/10\n",
            "\u001b[1m9/9\u001b[0m \u001b[32m━━━━━━━━━━━━━━━━━━━━\u001b[0m\u001b[37m\u001b[0m \u001b[1m0s\u001b[0m 13ms/step - loss: 4240.9253 - mse: 4240.9253 - r2_score: -41.3627 - val_loss: 3097.4766 - val_mse: 3097.4766 - val_r2_score: -35.6472\n",
            "Epoch 9/10\n",
            "\u001b[1m9/9\u001b[0m \u001b[32m━━━━━━━━━━━━━━━━━━━━\u001b[0m\u001b[37m\u001b[0m \u001b[1m0s\u001b[0m 12ms/step - loss: 2838.6294 - mse: 2838.6294 - r2_score: -37.0298 - val_loss: 1983.9047 - val_mse: 1983.9047 - val_r2_score: -22.4722\n",
            "Epoch 10/10\n",
            "\u001b[1m9/9\u001b[0m \u001b[32m━━━━━━━━━━━━━━━━━━━━\u001b[0m\u001b[37m\u001b[0m \u001b[1m0s\u001b[0m 14ms/step - loss: 1786.9637 - mse: 1786.9637 - r2_score: -20.8734 - val_loss: 1260.3995 - val_mse: 1260.3995 - val_r2_score: -13.9122\n"
          ]
        }
      ]
    },
    {
      "cell_type": "code",
      "source": [
        "metrics_df = pd.DataFrame(history.history)"
      ],
      "metadata": {
        "id": "urO1b9KZ3G0I"
      },
      "execution_count": 24,
      "outputs": []
    },
    {
      "cell_type": "code",
      "source": [
        "metrics_df"
      ],
      "metadata": {
        "colab": {
          "base_uri": "https://localhost:8080/",
          "height": 363
        },
        "id": "4PUPsae33Nlh",
        "outputId": "2ff5d6d7-dc63-408a-9fe6-368c53257225"
      },
      "execution_count": 25,
      "outputs": [
        {
          "output_type": "execute_result",
          "data": {
            "text/plain": [
              "           loss           mse    r2_score      val_loss       val_mse  \\\n",
              "0  41722.199219  41722.199219 -494.766937  36101.605469  36101.605469   \n",
              "1  32556.343750  32556.343750 -385.852142  27603.521484  27603.521484   \n",
              "2  24500.449219  24500.447266 -290.127960  20483.111328  20483.111328   \n",
              "3  17928.984375  17928.984375 -212.042419  14853.119141  14853.119141   \n",
              "4  12845.196289  12845.197266 -151.633774  10523.913086  10523.913086   \n",
              "5   9042.557617   9042.557617 -106.448708   7204.030273   7204.030273   \n",
              "6   6046.271484   6046.271484  -70.845245   4802.294922   4802.294922   \n",
              "7   3979.435791   3979.435791  -46.285896   3097.476562   3097.476562   \n",
              "8   2558.716553   2558.716553  -29.404110   1983.904663   1983.904663   \n",
              "9   1622.745850   1622.745850  -18.282358   1260.399536   1260.399536   \n",
              "\n",
              "   val_r2_score  \n",
              "0   -426.129211  \n",
              "1   -325.585754  \n",
              "2   -241.341995  \n",
              "3   -174.731827  \n",
              "4   -123.511650  \n",
              "5    -84.233101  \n",
              "6    -55.817432  \n",
              "7    -35.647202  \n",
              "8    -22.472187  \n",
              "9    -13.912174  "
            ],
            "text/html": [
              "\n",
              "  <div id=\"df-c23af608-1f71-435e-8a56-d45edf091ec5\" class=\"colab-df-container\">\n",
              "    <div>\n",
              "<style scoped>\n",
              "    .dataframe tbody tr th:only-of-type {\n",
              "        vertical-align: middle;\n",
              "    }\n",
              "\n",
              "    .dataframe tbody tr th {\n",
              "        vertical-align: top;\n",
              "    }\n",
              "\n",
              "    .dataframe thead th {\n",
              "        text-align: right;\n",
              "    }\n",
              "</style>\n",
              "<table border=\"1\" class=\"dataframe\">\n",
              "  <thead>\n",
              "    <tr style=\"text-align: right;\">\n",
              "      <th></th>\n",
              "      <th>loss</th>\n",
              "      <th>mse</th>\n",
              "      <th>r2_score</th>\n",
              "      <th>val_loss</th>\n",
              "      <th>val_mse</th>\n",
              "      <th>val_r2_score</th>\n",
              "    </tr>\n",
              "  </thead>\n",
              "  <tbody>\n",
              "    <tr>\n",
              "      <th>0</th>\n",
              "      <td>41722.199219</td>\n",
              "      <td>41722.199219</td>\n",
              "      <td>-494.766937</td>\n",
              "      <td>36101.605469</td>\n",
              "      <td>36101.605469</td>\n",
              "      <td>-426.129211</td>\n",
              "    </tr>\n",
              "    <tr>\n",
              "      <th>1</th>\n",
              "      <td>32556.343750</td>\n",
              "      <td>32556.343750</td>\n",
              "      <td>-385.852142</td>\n",
              "      <td>27603.521484</td>\n",
              "      <td>27603.521484</td>\n",
              "      <td>-325.585754</td>\n",
              "    </tr>\n",
              "    <tr>\n",
              "      <th>2</th>\n",
              "      <td>24500.449219</td>\n",
              "      <td>24500.447266</td>\n",
              "      <td>-290.127960</td>\n",
              "      <td>20483.111328</td>\n",
              "      <td>20483.111328</td>\n",
              "      <td>-241.341995</td>\n",
              "    </tr>\n",
              "    <tr>\n",
              "      <th>3</th>\n",
              "      <td>17928.984375</td>\n",
              "      <td>17928.984375</td>\n",
              "      <td>-212.042419</td>\n",
              "      <td>14853.119141</td>\n",
              "      <td>14853.119141</td>\n",
              "      <td>-174.731827</td>\n",
              "    </tr>\n",
              "    <tr>\n",
              "      <th>4</th>\n",
              "      <td>12845.196289</td>\n",
              "      <td>12845.197266</td>\n",
              "      <td>-151.633774</td>\n",
              "      <td>10523.913086</td>\n",
              "      <td>10523.913086</td>\n",
              "      <td>-123.511650</td>\n",
              "    </tr>\n",
              "    <tr>\n",
              "      <th>5</th>\n",
              "      <td>9042.557617</td>\n",
              "      <td>9042.557617</td>\n",
              "      <td>-106.448708</td>\n",
              "      <td>7204.030273</td>\n",
              "      <td>7204.030273</td>\n",
              "      <td>-84.233101</td>\n",
              "    </tr>\n",
              "    <tr>\n",
              "      <th>6</th>\n",
              "      <td>6046.271484</td>\n",
              "      <td>6046.271484</td>\n",
              "      <td>-70.845245</td>\n",
              "      <td>4802.294922</td>\n",
              "      <td>4802.294922</td>\n",
              "      <td>-55.817432</td>\n",
              "    </tr>\n",
              "    <tr>\n",
              "      <th>7</th>\n",
              "      <td>3979.435791</td>\n",
              "      <td>3979.435791</td>\n",
              "      <td>-46.285896</td>\n",
              "      <td>3097.476562</td>\n",
              "      <td>3097.476562</td>\n",
              "      <td>-35.647202</td>\n",
              "    </tr>\n",
              "    <tr>\n",
              "      <th>8</th>\n",
              "      <td>2558.716553</td>\n",
              "      <td>2558.716553</td>\n",
              "      <td>-29.404110</td>\n",
              "      <td>1983.904663</td>\n",
              "      <td>1983.904663</td>\n",
              "      <td>-22.472187</td>\n",
              "    </tr>\n",
              "    <tr>\n",
              "      <th>9</th>\n",
              "      <td>1622.745850</td>\n",
              "      <td>1622.745850</td>\n",
              "      <td>-18.282358</td>\n",
              "      <td>1260.399536</td>\n",
              "      <td>1260.399536</td>\n",
              "      <td>-13.912174</td>\n",
              "    </tr>\n",
              "  </tbody>\n",
              "</table>\n",
              "</div>\n",
              "    <div class=\"colab-df-buttons\">\n",
              "\n",
              "  <div class=\"colab-df-container\">\n",
              "    <button class=\"colab-df-convert\" onclick=\"convertToInteractive('df-c23af608-1f71-435e-8a56-d45edf091ec5')\"\n",
              "            title=\"Convert this dataframe to an interactive table.\"\n",
              "            style=\"display:none;\">\n",
              "\n",
              "  <svg xmlns=\"http://www.w3.org/2000/svg\" height=\"24px\" viewBox=\"0 -960 960 960\">\n",
              "    <path d=\"M120-120v-720h720v720H120Zm60-500h600v-160H180v160Zm220 220h160v-160H400v160Zm0 220h160v-160H400v160ZM180-400h160v-160H180v160Zm440 0h160v-160H620v160ZM180-180h160v-160H180v160Zm440 0h160v-160H620v160Z\"/>\n",
              "  </svg>\n",
              "    </button>\n",
              "\n",
              "  <style>\n",
              "    .colab-df-container {\n",
              "      display:flex;\n",
              "      gap: 12px;\n",
              "    }\n",
              "\n",
              "    .colab-df-convert {\n",
              "      background-color: #E8F0FE;\n",
              "      border: none;\n",
              "      border-radius: 50%;\n",
              "      cursor: pointer;\n",
              "      display: none;\n",
              "      fill: #1967D2;\n",
              "      height: 32px;\n",
              "      padding: 0 0 0 0;\n",
              "      width: 32px;\n",
              "    }\n",
              "\n",
              "    .colab-df-convert:hover {\n",
              "      background-color: #E2EBFA;\n",
              "      box-shadow: 0px 1px 2px rgba(60, 64, 67, 0.3), 0px 1px 3px 1px rgba(60, 64, 67, 0.15);\n",
              "      fill: #174EA6;\n",
              "    }\n",
              "\n",
              "    .colab-df-buttons div {\n",
              "      margin-bottom: 4px;\n",
              "    }\n",
              "\n",
              "    [theme=dark] .colab-df-convert {\n",
              "      background-color: #3B4455;\n",
              "      fill: #D2E3FC;\n",
              "    }\n",
              "\n",
              "    [theme=dark] .colab-df-convert:hover {\n",
              "      background-color: #434B5C;\n",
              "      box-shadow: 0px 1px 3px 1px rgba(0, 0, 0, 0.15);\n",
              "      filter: drop-shadow(0px 1px 2px rgba(0, 0, 0, 0.3));\n",
              "      fill: #FFFFFF;\n",
              "    }\n",
              "  </style>\n",
              "\n",
              "    <script>\n",
              "      const buttonEl =\n",
              "        document.querySelector('#df-c23af608-1f71-435e-8a56-d45edf091ec5 button.colab-df-convert');\n",
              "      buttonEl.style.display =\n",
              "        google.colab.kernel.accessAllowed ? 'block' : 'none';\n",
              "\n",
              "      async function convertToInteractive(key) {\n",
              "        const element = document.querySelector('#df-c23af608-1f71-435e-8a56-d45edf091ec5');\n",
              "        const dataTable =\n",
              "          await google.colab.kernel.invokeFunction('convertToInteractive',\n",
              "                                                    [key], {});\n",
              "        if (!dataTable) return;\n",
              "\n",
              "        const docLinkHtml = 'Like what you see? Visit the ' +\n",
              "          '<a target=\"_blank\" href=https://colab.research.google.com/notebooks/data_table.ipynb>data table notebook</a>'\n",
              "          + ' to learn more about interactive tables.';\n",
              "        element.innerHTML = '';\n",
              "        dataTable['output_type'] = 'display_data';\n",
              "        await google.colab.output.renderOutput(dataTable, element);\n",
              "        const docLink = document.createElement('div');\n",
              "        docLink.innerHTML = docLinkHtml;\n",
              "        element.appendChild(docLink);\n",
              "      }\n",
              "    </script>\n",
              "  </div>\n",
              "\n",
              "\n",
              "    <div id=\"df-cb1baef4-75a6-4871-9260-5d570961407f\">\n",
              "      <button class=\"colab-df-quickchart\" onclick=\"quickchart('df-cb1baef4-75a6-4871-9260-5d570961407f')\"\n",
              "                title=\"Suggest charts\"\n",
              "                style=\"display:none;\">\n",
              "\n",
              "<svg xmlns=\"http://www.w3.org/2000/svg\" height=\"24px\"viewBox=\"0 0 24 24\"\n",
              "     width=\"24px\">\n",
              "    <g>\n",
              "        <path d=\"M19 3H5c-1.1 0-2 .9-2 2v14c0 1.1.9 2 2 2h14c1.1 0 2-.9 2-2V5c0-1.1-.9-2-2-2zM9 17H7v-7h2v7zm4 0h-2V7h2v10zm4 0h-2v-4h2v4z\"/>\n",
              "    </g>\n",
              "</svg>\n",
              "      </button>\n",
              "\n",
              "<style>\n",
              "  .colab-df-quickchart {\n",
              "      --bg-color: #E8F0FE;\n",
              "      --fill-color: #1967D2;\n",
              "      --hover-bg-color: #E2EBFA;\n",
              "      --hover-fill-color: #174EA6;\n",
              "      --disabled-fill-color: #AAA;\n",
              "      --disabled-bg-color: #DDD;\n",
              "  }\n",
              "\n",
              "  [theme=dark] .colab-df-quickchart {\n",
              "      --bg-color: #3B4455;\n",
              "      --fill-color: #D2E3FC;\n",
              "      --hover-bg-color: #434B5C;\n",
              "      --hover-fill-color: #FFFFFF;\n",
              "      --disabled-bg-color: #3B4455;\n",
              "      --disabled-fill-color: #666;\n",
              "  }\n",
              "\n",
              "  .colab-df-quickchart {\n",
              "    background-color: var(--bg-color);\n",
              "    border: none;\n",
              "    border-radius: 50%;\n",
              "    cursor: pointer;\n",
              "    display: none;\n",
              "    fill: var(--fill-color);\n",
              "    height: 32px;\n",
              "    padding: 0;\n",
              "    width: 32px;\n",
              "  }\n",
              "\n",
              "  .colab-df-quickchart:hover {\n",
              "    background-color: var(--hover-bg-color);\n",
              "    box-shadow: 0 1px 2px rgba(60, 64, 67, 0.3), 0 1px 3px 1px rgba(60, 64, 67, 0.15);\n",
              "    fill: var(--button-hover-fill-color);\n",
              "  }\n",
              "\n",
              "  .colab-df-quickchart-complete:disabled,\n",
              "  .colab-df-quickchart-complete:disabled:hover {\n",
              "    background-color: var(--disabled-bg-color);\n",
              "    fill: var(--disabled-fill-color);\n",
              "    box-shadow: none;\n",
              "  }\n",
              "\n",
              "  .colab-df-spinner {\n",
              "    border: 2px solid var(--fill-color);\n",
              "    border-color: transparent;\n",
              "    border-bottom-color: var(--fill-color);\n",
              "    animation:\n",
              "      spin 1s steps(1) infinite;\n",
              "  }\n",
              "\n",
              "  @keyframes spin {\n",
              "    0% {\n",
              "      border-color: transparent;\n",
              "      border-bottom-color: var(--fill-color);\n",
              "      border-left-color: var(--fill-color);\n",
              "    }\n",
              "    20% {\n",
              "      border-color: transparent;\n",
              "      border-left-color: var(--fill-color);\n",
              "      border-top-color: var(--fill-color);\n",
              "    }\n",
              "    30% {\n",
              "      border-color: transparent;\n",
              "      border-left-color: var(--fill-color);\n",
              "      border-top-color: var(--fill-color);\n",
              "      border-right-color: var(--fill-color);\n",
              "    }\n",
              "    40% {\n",
              "      border-color: transparent;\n",
              "      border-right-color: var(--fill-color);\n",
              "      border-top-color: var(--fill-color);\n",
              "    }\n",
              "    60% {\n",
              "      border-color: transparent;\n",
              "      border-right-color: var(--fill-color);\n",
              "    }\n",
              "    80% {\n",
              "      border-color: transparent;\n",
              "      border-right-color: var(--fill-color);\n",
              "      border-bottom-color: var(--fill-color);\n",
              "    }\n",
              "    90% {\n",
              "      border-color: transparent;\n",
              "      border-bottom-color: var(--fill-color);\n",
              "    }\n",
              "  }\n",
              "</style>\n",
              "\n",
              "      <script>\n",
              "        async function quickchart(key) {\n",
              "          const quickchartButtonEl =\n",
              "            document.querySelector('#' + key + ' button');\n",
              "          quickchartButtonEl.disabled = true;  // To prevent multiple clicks.\n",
              "          quickchartButtonEl.classList.add('colab-df-spinner');\n",
              "          try {\n",
              "            const charts = await google.colab.kernel.invokeFunction(\n",
              "                'suggestCharts', [key], {});\n",
              "          } catch (error) {\n",
              "            console.error('Error during call to suggestCharts:', error);\n",
              "          }\n",
              "          quickchartButtonEl.classList.remove('colab-df-spinner');\n",
              "          quickchartButtonEl.classList.add('colab-df-quickchart-complete');\n",
              "        }\n",
              "        (() => {\n",
              "          let quickchartButtonEl =\n",
              "            document.querySelector('#df-cb1baef4-75a6-4871-9260-5d570961407f button');\n",
              "          quickchartButtonEl.style.display =\n",
              "            google.colab.kernel.accessAllowed ? 'block' : 'none';\n",
              "        })();\n",
              "      </script>\n",
              "    </div>\n",
              "\n",
              "  <div id=\"id_d667554e-7cf2-46d4-931c-58a7da44b81a\">\n",
              "    <style>\n",
              "      .colab-df-generate {\n",
              "        background-color: #E8F0FE;\n",
              "        border: none;\n",
              "        border-radius: 50%;\n",
              "        cursor: pointer;\n",
              "        display: none;\n",
              "        fill: #1967D2;\n",
              "        height: 32px;\n",
              "        padding: 0 0 0 0;\n",
              "        width: 32px;\n",
              "      }\n",
              "\n",
              "      .colab-df-generate:hover {\n",
              "        background-color: #E2EBFA;\n",
              "        box-shadow: 0px 1px 2px rgba(60, 64, 67, 0.3), 0px 1px 3px 1px rgba(60, 64, 67, 0.15);\n",
              "        fill: #174EA6;\n",
              "      }\n",
              "\n",
              "      [theme=dark] .colab-df-generate {\n",
              "        background-color: #3B4455;\n",
              "        fill: #D2E3FC;\n",
              "      }\n",
              "\n",
              "      [theme=dark] .colab-df-generate:hover {\n",
              "        background-color: #434B5C;\n",
              "        box-shadow: 0px 1px 3px 1px rgba(0, 0, 0, 0.15);\n",
              "        filter: drop-shadow(0px 1px 2px rgba(0, 0, 0, 0.3));\n",
              "        fill: #FFFFFF;\n",
              "      }\n",
              "    </style>\n",
              "    <button class=\"colab-df-generate\" onclick=\"generateWithVariable('metrics_df')\"\n",
              "            title=\"Generate code using this dataframe.\"\n",
              "            style=\"display:none;\">\n",
              "\n",
              "  <svg xmlns=\"http://www.w3.org/2000/svg\" height=\"24px\"viewBox=\"0 0 24 24\"\n",
              "       width=\"24px\">\n",
              "    <path d=\"M7,19H8.4L18.45,9,17,7.55,7,17.6ZM5,21V16.75L18.45,3.32a2,2,0,0,1,2.83,0l1.4,1.43a1.91,1.91,0,0,1,.58,1.4,1.91,1.91,0,0,1-.58,1.4L9.25,21ZM18.45,9,17,7.55Zm-12,3A5.31,5.31,0,0,0,4.9,8.1,5.31,5.31,0,0,0,1,6.5,5.31,5.31,0,0,0,4.9,4.9,5.31,5.31,0,0,0,6.5,1,5.31,5.31,0,0,0,8.1,4.9,5.31,5.31,0,0,0,12,6.5,5.46,5.46,0,0,0,6.5,12Z\"/>\n",
              "  </svg>\n",
              "    </button>\n",
              "    <script>\n",
              "      (() => {\n",
              "      const buttonEl =\n",
              "        document.querySelector('#id_d667554e-7cf2-46d4-931c-58a7da44b81a button.colab-df-generate');\n",
              "      buttonEl.style.display =\n",
              "        google.colab.kernel.accessAllowed ? 'block' : 'none';\n",
              "\n",
              "      buttonEl.onclick = () => {\n",
              "        google.colab.notebook.generateWithVariable('metrics_df');\n",
              "      }\n",
              "      })();\n",
              "    </script>\n",
              "  </div>\n",
              "\n",
              "    </div>\n",
              "  </div>\n"
            ],
            "application/vnd.google.colaboratory.intrinsic+json": {
              "type": "dataframe",
              "variable_name": "metrics_df",
              "summary": "{\n  \"name\": \"metrics_df\",\n  \"rows\": 10,\n  \"fields\": [\n    {\n      \"column\": \"loss\",\n      \"properties\": {\n        \"dtype\": \"number\",\n        \"std\": 13726.882983041649,\n        \"min\": 1622.745849609375,\n        \"max\": 41722.19921875,\n        \"num_unique_values\": 10,\n        \"samples\": [\n          2558.716552734375,\n          32556.34375,\n          9042.5576171875\n        ],\n        \"semantic_type\": \"\",\n        \"description\": \"\"\n      }\n    },\n    {\n      \"column\": \"mse\",\n      \"properties\": {\n        \"dtype\": \"number\",\n        \"std\": 13726.882818027718,\n        \"min\": 1622.745849609375,\n        \"max\": 41722.19921875,\n        \"num_unique_values\": 10,\n        \"samples\": [\n          2558.716552734375,\n          32556.34375,\n          9042.5576171875\n        ],\n        \"semantic_type\": \"\",\n        \"description\": \"\"\n      }\n    },\n    {\n      \"column\": \"r2_score\",\n      \"properties\": {\n        \"dtype\": \"number\",\n        \"std\": 163.11051183092152,\n        \"min\": -494.7669372558594,\n        \"max\": -18.282358169555664,\n        \"num_unique_values\": 10,\n        \"samples\": [\n          -29.404109954833984,\n          -385.8521423339844,\n          -106.4487075805664\n        ],\n        \"semantic_type\": \"\",\n        \"description\": \"\"\n      }\n    },\n    {\n      \"column\": \"val_loss\",\n      \"properties\": {\n        \"dtype\": \"number\",\n        \"std\": 11879.495906241527,\n        \"min\": 1260.3995361328125,\n        \"max\": 36101.60546875,\n        \"num_unique_values\": 10,\n        \"samples\": [\n          1983.9046630859375,\n          27603.521484375,\n          7204.0302734375\n        ],\n        \"semantic_type\": \"\",\n        \"description\": \"\"\n      }\n    },\n    {\n      \"column\": \"val_mse\",\n      \"properties\": {\n        \"dtype\": \"number\",\n        \"std\": 11879.495906241527,\n        \"min\": 1260.3995361328125,\n        \"max\": 36101.60546875,\n        \"num_unique_values\": 10,\n        \"samples\": [\n          1983.9046630859375,\n          27603.521484375,\n          7204.0302734375\n        ],\n        \"semantic_type\": \"\",\n        \"description\": \"\"\n      }\n    },\n    {\n      \"column\": \"val_r2_score\",\n      \"properties\": {\n        \"dtype\": \"number\",\n        \"std\": 140.54997268756213,\n        \"min\": -426.12921142578125,\n        \"max\": -13.912174224853516,\n        \"num_unique_values\": 10,\n        \"samples\": [\n          -22.472187042236328,\n          -325.58575439453125,\n          -84.23310089111328\n        ],\n        \"semantic_type\": \"\",\n        \"description\": \"\"\n      }\n    }\n  ]\n}"
            }
          },
          "metadata": {},
          "execution_count": 25
        }
      ]
    },
    {
      "cell_type": "code",
      "source": [
        "fig,ax = plt.subplots(ncols=3,nrows=1,figsize=(10,4))\n",
        "## Validation loss\n",
        "ax[0].plot(metrics_df['loss'],label=['Loss'])\n",
        "ax[0].plot(metrics_df['val_loss'],label=['Val_loss'])\n",
        "ax[0].set_title('Validation loss')\n",
        "ax[0].legend()\n",
        "## R2_score\n",
        "ax[1].plot(metrics_df['r2_score'],label=['r2_score'])\n",
        "ax[1].plot(metrics_df['val_r2_score'],label=['val_r2_score'])\n",
        "ax[1].set_title('R2_score')\n",
        "ax[1].legend()\n",
        "## RMSE\n",
        "ax[2].plot(np.sqrt(metrics_df['mse']),label=['rmse'])\n",
        "ax[2].plot(np.sqrt(metrics_df['val_mse']),label=['val_rmse'])\n",
        "ax[2].set_title('RMSE')\n",
        "ax[2].legend()\n"
      ],
      "metadata": {
        "colab": {
          "base_uri": "https://localhost:8080/",
          "height": 408
        },
        "id": "geKqFu3-3Ved",
        "outputId": "2e95d740-8500-4544-eacf-2517c0acde6e"
      },
      "execution_count": 34,
      "outputs": [
        {
          "output_type": "execute_result",
          "data": {
            "text/plain": [
              "<matplotlib.legend.Legend at 0x7c887cda57f0>"
            ]
          },
          "metadata": {},
          "execution_count": 34
        },
        {
          "output_type": "display_data",
          "data": {
            "text/plain": [
              "<Figure size 1000x400 with 3 Axes>"
            ],
            "image/png": "[encoded data removed]"
          },
          "metadata": {}
        }
      ]
    },
    {
      "cell_type": "code",
      "source": [
        "## Building with classes\n",
        "class BostonHousing:\n",
        "  def __init__(self,lr_rate_optimizer:float,val_split:float,loss:str,metrics:list,optimizer):\n",
        "    self.lr_rate_optimizer = lr_rate_optimizer\n",
        "    self.val_split = val_split\n",
        "    self.loss = loss\n",
        "    self.metrics = metrics\n",
        "    self.optimizer = optimizer\n",
        "\n",
        "  def load_data(self):\n",
        "    (self.X_train,self.y_train),(self.X_test,self.y_test) = boston_housing.load_data()\n",
        "    print(f\"Data Loaded !!\")\n",
        "    return self.X_train, self.y_train, self.X_test, self.y_test\n",
        "\n",
        "  def model_sequential_(self,neurons):\n",
        "    self.neurons = neurons\n",
        "    self.model = Sequential([\n",
        "      Dense(self.neurons,activation='relu',input_dim=self.X_train.shape[1]),\n",
        "      Dense(1,activation='linear')\n",
        "    ])\n",
        "    self.model.compile(optimizer=self.optimizer,metrics=self.metrics,loss=self.loss)\n",
        "\n",
        "    return  self.model\n",
        "\n",
        "  def predict(self,X_test):\n",
        "    self.X_test = X_test\n",
        "    self.y_pred = self.model.predict(self.X_test)\n",
        "    return self.y_pred\n",
        "\n",
        "  def train(self,epochs:int,batch_size:int=None):\n",
        "    self.epochs = epochs\n",
        "    self.batch_size = batch_size\n",
        "    self.history = self.model.fit(\n",
        "        self.X_train,self.y_train,\n",
        "        validation_split = self.val_split,\n",
        "        epochs=self.epochs,\n",
        "        batch_size= self.batch_size\n",
        "    )\n",
        "    return pd.DataFrame(self.history.history)\n",
        "\n",
        "  def plot_metrics(self,metrics_df):\n",
        "    self.metrics_df = metrics_df\n",
        "    fig,ax = plt.subplots(ncols=3,nrows=1,figsize=(10,4))\n",
        "    ## Validation loss\n",
        "    ax[0].plot(self.metrics_df['loss'],label=['Loss'])\n",
        "    ax[0].plot(self.metrics_df['val_loss'],label=['Val_loss'])\n",
        "    ax[0].set_title('Validation loss')\n",
        "    ax[0].legend()\n",
        "    ## R2_score\n",
        "    ax[1].plot(self.metrics_df['r2_score'],label=['r2_score'])\n",
        "    ax[1].plot(self.metrics_df['val_r2_score'],label=['val_r2_score'])\n",
        "    ax[1].set_title('R2_score')\n",
        "    ax[1].legend()\n",
        "    ## RMSE\n",
        "    ax[2].plot(np.sqrt(self.metrics_df['mse']),label=['rmse'])\n",
        "    ax[2].plot(np.sqrt(self.metrics_df['val_mse']),label=['val_rmse'])\n",
        "    ax[2].set_title('RMSE')\n",
        "    ax[2].legend()\n"
      ],
      "metadata": {
        "id": "pym_hfzm31yL"
      },
      "execution_count": 37,
      "outputs": []
    },
    {
      "cell_type": "code",
      "source": [
        "model_seq = BostonHousing(0.01,0.2,\"mse\",['mse','r2_score'],'Adam')"
      ],
      "metadata": {
        "id": "QpP835IG7Ein"
      },
      "execution_count": 38,
      "outputs": []
    },
    {
      "cell_type": "code",
      "source": [
        "X_train, y_train, X_test, y_test = model_seq.load_data()"
      ],
      "metadata": {
        "colab": {
          "base_uri": "https://localhost:8080/"
        },
        "id": "yozrzT24AnL8",
        "outputId": "b5a58dac-9c38-4478-9c38-a3e24f815bc0"
      },
      "execution_count": 39,
      "outputs": [
        {
          "output_type": "stream",
          "name": "stdout",
          "text": [
            "Data Loaded !!\n"
          ]
        }
      ]
    },
    {
      "cell_type": "code",
      "source": [
        "model = model_seq.model_sequential_(10)"
      ],
      "metadata": {
        "colab": {
          "base_uri": "https://localhost:8080/"
        },
        "id": "JQqUyBo6Az3s",
        "outputId": "dea798de-c665-42d0-ecba-fa62cbc62192"
      },
      "execution_count": 40,
      "outputs": [
        {
          "output_type": "stream",
          "name": "stderr",
          "text": [
            "/usr/local/lib/python3.12/dist-packages/keras/src/layers/core/dense.py:93: UserWarning: Do not pass an `input_shape`/`input_dim` argument to a layer. When using Sequential models, prefer using an `Input(shape)` object as the first layer in the model instead.\n",
            "  super().__init__(activity_regularizer=activity_regularizer, **kwargs)\n"
          ]
        }
      ]
    },
    {
      "cell_type": "code",
      "source": [
        "metrics_df = model_seq.train(50,32)"
      ],
      "metadata": {
        "colab": {
          "base_uri": "https://localhost:8080/"
        },
        "id": "N1Jt5zrYBGvM",
        "outputId": "e831be9e-50f9-44d5-9dd9-61532d9bddf6"
      },
      "execution_count": 42,
      "outputs": [
        {
          "output_type": "stream",
          "name": "stdout",
          "text": [
            "Epoch 1/50\n",
            "\u001b[1m11/11\u001b[0m \u001b[32m━━━━━━━━━━━━━━━━━━━━\u001b[0m\u001b[37m\u001b[0m \u001b[1m2s\u001b[0m 35ms/step - loss: 4671.7393 - mse: 4671.7393 - r2_score: -49.8417 - val_loss: 2237.6216 - val_mse: 2237.6216 - val_r2_score: -25.4740\n",
            "Epoch 2/50\n",
            "\u001b[1m11/11\u001b[0m \u001b[32m━━━━━━━━━━━━━━━━━━━━\u001b[0m\u001b[37m\u001b[0m \u001b[1m0s\u001b[0m 11ms/step - loss: 1973.2959 - mse: 1973.2959 - r2_score: -20.1827 - val_loss: 815.3491 - val_mse: 815.3491 - val_r2_score: -8.6466\n",
            "Epoch 3/50\n",
            "\u001b[1m11/11\u001b[0m \u001b[32m━━━━━━━━━━━━━━━━━━━━\u001b[0m\u001b[37m\u001b[0m \u001b[1m0s\u001b[0m 10ms/step - loss: 832.1444 - mse: 832.1444 - r2_score: -8.3262 - val_loss: 359.9903 - val_mse: 359.9903 - val_r2_score: -3.2592\n",
            "Epoch 4/50\n",
            "\u001b[1m11/11\u001b[0m \u001b[32m━━━━━━━━━━━━━━━━━━━━\u001b[0m\u001b[37m\u001b[0m \u001b[1m0s\u001b[0m 10ms/step - loss: 435.1082 - mse: 435.1082 - r2_score: -4.0048 - val_loss: 292.8338 - val_mse: 292.8338 - val_r2_score: -2.4646\n",
            "Epoch 5/50\n",
            "\u001b[1m11/11\u001b[0m \u001b[32m━━━━━━━━━━━━━━━━━━━━\u001b[0m\u001b[37m\u001b[0m \u001b[1m0s\u001b[0m 10ms/step - loss: 402.7893 - mse: 402.7893 - r2_score: -3.8037 - val_loss: 292.2135 - val_mse: 292.2135 - val_r2_score: -2.4573\n",
            "Epoch 6/50\n",
            "\u001b[1m11/11\u001b[0m \u001b[32m━━━━━━━━━━━━━━━━━━━━\u001b[0m\u001b[37m\u001b[0m \u001b[1m0s\u001b[0m 11ms/step - loss: 391.8061 - mse: 391.8061 - r2_score: -3.1586 - val_loss: 265.7019 - val_mse: 265.7019 - val_r2_score: -2.1436\n",
            "Epoch 7/50\n",
            "\u001b[1m11/11\u001b[0m \u001b[32m━━━━━━━━━━━━━━━━━━━━\u001b[0m\u001b[37m\u001b[0m \u001b[1m0s\u001b[0m 11ms/step - loss: 341.3803 - mse: 341.3803 - r2_score: -2.7475 - val_loss: 236.5907 - val_mse: 236.5907 - val_r2_score: -1.7992\n",
            "Epoch 8/50\n",
            "\u001b[1m11/11\u001b[0m \u001b[32m━━━━━━━━━━━━━━━━━━━━\u001b[0m\u001b[37m\u001b[0m \u001b[1m0s\u001b[0m 11ms/step - loss: 336.3954 - mse: 336.3954 - r2_score: -3.2036 - val_loss: 216.0105 - val_mse: 216.0105 - val_r2_score: -1.5557\n",
            "Epoch 9/50\n",
            "\u001b[1m11/11\u001b[0m \u001b[32m━━━━━━━━━━━━━━━━━━━━\u001b[0m\u001b[37m\u001b[0m \u001b[1m0s\u001b[0m 12ms/step - loss: 287.3903 - mse: 287.3903 - r2_score: -2.4183 - val_loss: 206.5868 - val_mse: 206.5868 - val_r2_score: -1.4442\n",
            "Epoch 10/50\n",
            "\u001b[1m11/11\u001b[0m \u001b[32m━━━━━━━━━━━━━━━━━━━━\u001b[0m\u001b[37m\u001b[0m \u001b[1m0s\u001b[0m 11ms/step - loss: 288.8773 - mse: 288.8773 - r2_score: -2.1842 - val_loss: 199.0928 - val_mse: 199.0928 - val_r2_score: -1.3555\n",
            "Epoch 11/50\n",
            "\u001b[1m11/11\u001b[0m \u001b[32m━━━━━━━━━━━━━━━━━━━━\u001b[0m\u001b[37m\u001b[0m \u001b[1m0s\u001b[0m 11ms/step - loss: 254.4598 - mse: 254.4598 - r2_score: -2.1497 - val_loss: 193.3523 - val_mse: 193.3523 - val_r2_score: -1.2876\n",
            "Epoch 12/50\n",
            "\u001b[1m11/11\u001b[0m \u001b[32m━━━━━━━━━━━━━━━━━━━━\u001b[0m\u001b[37m\u001b[0m \u001b[1m0s\u001b[0m 13ms/step - loss: 255.3317 - mse: 255.3317 - r2_score: -1.9705 - val_loss: 188.5110 - val_mse: 188.5110 - val_r2_score: -1.2303\n",
            "Epoch 13/50\n",
            "\u001b[1m11/11\u001b[0m \u001b[32m━━━━━━━━━━━━━━━━━━━━\u001b[0m\u001b[37m\u001b[0m \u001b[1m0s\u001b[0m 10ms/step - loss: 236.7124 - mse: 236.7124 - r2_score: -1.7309 - val_loss: 182.7052 - val_mse: 182.7052 - val_r2_score: -1.1616\n",
            "Epoch 14/50\n",
            "\u001b[1m11/11\u001b[0m \u001b[32m━━━━━━━━━━━━━━━━━━━━\u001b[0m\u001b[37m\u001b[0m \u001b[1m0s\u001b[0m 11ms/step - loss: 218.7088 - mse: 218.7088 - r2_score: -1.5868 - val_loss: 176.2780 - val_mse: 176.2780 - val_r2_score: -1.0856\n",
            "Epoch 15/50\n",
            "\u001b[1m11/11\u001b[0m \u001b[32m━━━━━━━━━━━━━━━━━━━━\u001b[0m\u001b[37m\u001b[0m \u001b[1m0s\u001b[0m 10ms/step - loss: 220.6810 - mse: 220.6810 - r2_score: -1.9196 - val_loss: 173.4388 - val_mse: 173.4388 - val_r2_score: -1.0520\n",
            "Epoch 16/50\n",
            "\u001b[1m11/11\u001b[0m \u001b[32m━━━━━━━━━━━━━━━━━━━━\u001b[0m\u001b[37m\u001b[0m \u001b[1m0s\u001b[0m 10ms/step - loss: 210.4189 - mse: 210.4189 - r2_score: -1.6469 - val_loss: 169.1658 - val_mse: 169.1658 - val_r2_score: -1.0015\n",
            "Epoch 17/50\n",
            "\u001b[1m11/11\u001b[0m \u001b[32m━━━━━━━━━━━━━━━━━━━━\u001b[0m\u001b[37m\u001b[0m \u001b[1m0s\u001b[0m 11ms/step - loss: 221.8022 - mse: 221.8022 - r2_score: -1.6983 - val_loss: 161.5597 - val_mse: 161.5597 - val_r2_score: -0.9115\n",
            "Epoch 18/50\n",
            "\u001b[1m11/11\u001b[0m \u001b[32m━━━━━━━━━━━━━━━━━━━━\u001b[0m\u001b[37m\u001b[0m \u001b[1m0s\u001b[0m 14ms/step - loss: 189.9284 - mse: 189.9284 - r2_score: -1.5832 - val_loss: 156.2479 - val_mse: 156.2479 - val_r2_score: -0.8486\n",
            "Epoch 19/50\n",
            "\u001b[1m11/11\u001b[0m \u001b[32m━━━━━━━━━━━━━━━━━━━━\u001b[0m\u001b[37m\u001b[0m \u001b[1m0s\u001b[0m 10ms/step - loss: 179.9469 - mse: 179.9469 - r2_score: -1.1611 - val_loss: 150.6018 - val_mse: 150.6018 - val_r2_score: -0.7818\n",
            "Epoch 20/50\n",
            "\u001b[1m11/11\u001b[0m \u001b[32m━━━━━━━━━━━━━━━━━━━━\u001b[0m\u001b[37m\u001b[0m \u001b[1m0s\u001b[0m 11ms/step - loss: 184.4857 - mse: 184.4857 - r2_score: -1.2988 - val_loss: 148.0690 - val_mse: 148.0690 - val_r2_score: -0.7519\n",
            "Epoch 21/50\n",
            "\u001b[1m11/11\u001b[0m \u001b[32m━━━━━━━━━━━━━━━━━━━━\u001b[0m\u001b[37m\u001b[0m \u001b[1m0s\u001b[0m 10ms/step - loss: 161.6044 - mse: 161.6044 - r2_score: -0.8668 - val_loss: 144.2667 - val_mse: 144.2667 - val_r2_score: -0.7069\n",
            "Epoch 22/50\n",
            "\u001b[1m11/11\u001b[0m \u001b[32m━━━━━━━━━━━━━━━━━━━━\u001b[0m\u001b[37m\u001b[0m \u001b[1m0s\u001b[0m 10ms/step - loss: 156.8958 - mse: 156.8958 - r2_score: -0.8486 - val_loss: 138.4717 - val_mse: 138.4717 - val_r2_score: -0.6383\n",
            "Epoch 23/50\n",
            "\u001b[1m11/11\u001b[0m \u001b[32m━━━━━━━━━━━━━━━━━━━━\u001b[0m\u001b[37m\u001b[0m \u001b[1m0s\u001b[0m 11ms/step - loss: 155.0556 - mse: 155.0556 - r2_score: -0.7992 - val_loss: 135.7539 - val_mse: 135.7539 - val_r2_score: -0.6061\n",
            "Epoch 24/50\n",
            "\u001b[1m11/11\u001b[0m \u001b[32m━━━━━━━━━━━━━━━━━━━━\u001b[0m\u001b[37m\u001b[0m \u001b[1m0s\u001b[0m 10ms/step - loss: 149.6962 - mse: 149.6962 - r2_score: -0.9216 - val_loss: 131.9785 - val_mse: 131.9785 - val_r2_score: -0.5615\n",
            "Epoch 25/50\n",
            "\u001b[1m11/11\u001b[0m \u001b[32m━━━━━━━━━━━━━━━━━━━━\u001b[0m\u001b[37m\u001b[0m \u001b[1m0s\u001b[0m 11ms/step - loss: 143.9829 - mse: 143.9829 - r2_score: -0.5942 - val_loss: 130.0808 - val_mse: 130.0808 - val_r2_score: -0.5390\n",
            "Epoch 26/50\n",
            "\u001b[1m11/11\u001b[0m \u001b[32m━━━━━━━━━━━━━━━━━━━━\u001b[0m\u001b[37m\u001b[0m \u001b[1m0s\u001b[0m 10ms/step - loss: 136.7620 - mse: 136.7620 - r2_score: -0.6669 - val_loss: 127.0265 - val_mse: 127.0265 - val_r2_score: -0.5029\n",
            "Epoch 27/50\n",
            "\u001b[1m11/11\u001b[0m \u001b[32m━━━━━━━━━━━━━━━━━━━━\u001b[0m\u001b[37m\u001b[0m \u001b[1m0s\u001b[0m 11ms/step - loss: 138.4982 - mse: 138.4982 - r2_score: -0.6004 - val_loss: 123.7502 - val_mse: 123.7502 - val_r2_score: -0.4641\n",
            "Epoch 28/50\n",
            "\u001b[1m11/11\u001b[0m \u001b[32m━━━━━━━━━━━━━━━━━━━━\u001b[0m\u001b[37m\u001b[0m \u001b[1m0s\u001b[0m 10ms/step - loss: 129.4388 - mse: 129.4388 - r2_score: -0.4605 - val_loss: 121.0335 - val_mse: 121.0335 - val_r2_score: -0.4320\n",
            "Epoch 29/50\n",
            "\u001b[1m11/11\u001b[0m \u001b[32m━━━━━━━━━━━━━━━━━━━━\u001b[0m\u001b[37m\u001b[0m \u001b[1m0s\u001b[0m 10ms/step - loss: 109.4511 - mse: 109.4511 - r2_score: -0.2811 - val_loss: 118.3453 - val_mse: 118.3453 - val_r2_score: -0.4002\n",
            "Epoch 30/50\n",
            "\u001b[1m11/11\u001b[0m \u001b[32m━━━━━━━━━━━━━━━━━━━━\u001b[0m\u001b[37m\u001b[0m \u001b[1m0s\u001b[0m 10ms/step - loss: 122.9182 - mse: 122.9182 - r2_score: -0.4109 - val_loss: 116.2661 - val_mse: 116.2661 - val_r2_score: -0.3756\n",
            "Epoch 31/50\n",
            "\u001b[1m11/11\u001b[0m \u001b[32m━━━━━━━━━━━━━━━━━━━━\u001b[0m\u001b[37m\u001b[0m \u001b[1m0s\u001b[0m 10ms/step - loss: 107.9129 - mse: 107.9129 - r2_score: -0.2691 - val_loss: 115.8024 - val_mse: 115.8024 - val_r2_score: -0.3701\n",
            "Epoch 32/50\n",
            "\u001b[1m11/11\u001b[0m \u001b[32m━━━━━━━━━━━━━━━━━━━━\u001b[0m\u001b[37m\u001b[0m \u001b[1m0s\u001b[0m 10ms/step - loss: 113.7979 - mse: 113.7979 - r2_score: -0.3498 - val_loss: 113.3127 - val_mse: 113.3127 - val_r2_score: -0.3406\n",
            "Epoch 33/50\n",
            "\u001b[1m11/11\u001b[0m \u001b[32m━━━━━━━━━━━━━━━━━━━━\u001b[0m\u001b[37m\u001b[0m \u001b[1m0s\u001b[0m 11ms/step - loss: 107.0489 - mse: 107.0489 - r2_score: -0.2252 - val_loss: 109.3942 - val_mse: 109.3942 - val_r2_score: -0.2943\n",
            "Epoch 34/50\n",
            "\u001b[1m11/11\u001b[0m \u001b[32m━━━━━━━━━━━━━━━━━━━━\u001b[0m\u001b[37m\u001b[0m \u001b[1m0s\u001b[0m 11ms/step - loss: 102.1801 - mse: 102.1801 - r2_score: -0.2188 - val_loss: 109.6951 - val_mse: 109.6951 - val_r2_score: -0.2978\n",
            "Epoch 35/50\n",
            "\u001b[1m11/11\u001b[0m \u001b[32m━━━━━━━━━━━━━━━━━━━━\u001b[0m\u001b[37m\u001b[0m \u001b[1m0s\u001b[0m 10ms/step - loss: 99.2253 - mse: 99.2253 - r2_score: -0.0657 - val_loss: 109.4432 - val_mse: 109.4432 - val_r2_score: -0.2949\n",
            "Epoch 36/50\n",
            "\u001b[1m11/11\u001b[0m \u001b[32m━━━━━━━━━━━━━━━━━━━━\u001b[0m\u001b[37m\u001b[0m \u001b[1m0s\u001b[0m 11ms/step - loss: 97.8666 - mse: 97.8666 - r2_score: -0.1916 - val_loss: 106.9940 - val_mse: 106.9940 - val_r2_score: -0.2659\n",
            "Epoch 37/50\n",
            "\u001b[1m11/11\u001b[0m \u001b[32m━━━━━━━━━━━━━━━━━━━━\u001b[0m\u001b[37m\u001b[0m \u001b[1m0s\u001b[0m 11ms/step - loss: 96.8568 - mse: 96.8568 - r2_score: -0.2525 - val_loss: 105.0644 - val_mse: 105.0644 - val_r2_score: -0.2430\n",
            "Epoch 38/50\n",
            "\u001b[1m11/11\u001b[0m \u001b[32m━━━━━━━━━━━━━━━━━━━━\u001b[0m\u001b[37m\u001b[0m \u001b[1m0s\u001b[0m 12ms/step - loss: 91.2839 - mse: 91.2839 - r2_score: -0.0706 - val_loss: 101.3204 - val_mse: 101.3204 - val_r2_score: -0.1988\n",
            "Epoch 39/50\n",
            "\u001b[1m11/11\u001b[0m \u001b[32m━━━━━━━━━━━━━━━━━━━━\u001b[0m\u001b[37m\u001b[0m \u001b[1m0s\u001b[0m 11ms/step - loss: 89.0141 - mse: 89.0141 - r2_score: -0.0776 - val_loss: 102.7993 - val_mse: 102.7993 - val_r2_score: -0.2163\n",
            "Epoch 40/50\n",
            "\u001b[1m11/11\u001b[0m \u001b[32m━━━━━━━━━━━━━━━━━━━━\u001b[0m\u001b[37m\u001b[0m \u001b[1m0s\u001b[0m 11ms/step - loss: 78.0155 - mse: 78.0155 - r2_score: 0.0424 - val_loss: 100.3389 - val_mse: 100.3389 - val_r2_score: -0.1871\n",
            "Epoch 41/50\n",
            "\u001b[1m11/11\u001b[0m \u001b[32m━━━━━━━━━━━━━━━━━━━━\u001b[0m\u001b[37m\u001b[0m \u001b[1m0s\u001b[0m 11ms/step - loss: 80.0000 - mse: 80.0000 - r2_score: -0.0018 - val_loss: 96.3598 - val_mse: 96.3598 - val_r2_score: -0.1401\n",
            "Epoch 42/50\n",
            "\u001b[1m11/11\u001b[0m \u001b[32m━━━━━━━━━━━━━━━━━━━━\u001b[0m\u001b[37m\u001b[0m \u001b[1m0s\u001b[0m 10ms/step - loss: 76.4753 - mse: 76.4753 - r2_score: -0.0100 - val_loss: 93.7842 - val_mse: 93.7842 - val_r2_score: -0.1096\n",
            "Epoch 43/50\n",
            "\u001b[1m11/11\u001b[0m \u001b[32m━━━━━━━━━━━━━━━━━━━━\u001b[0m\u001b[37m\u001b[0m \u001b[1m0s\u001b[0m 11ms/step - loss: 78.9156 - mse: 78.9156 - r2_score: -0.0313 - val_loss: 95.8012 - val_mse: 95.8012 - val_r2_score: -0.1335\n",
            "Epoch 44/50\n",
            "\u001b[1m11/11\u001b[0m \u001b[32m━━━━━━━━━━━━━━━━━━━━\u001b[0m\u001b[37m\u001b[0m \u001b[1m0s\u001b[0m 11ms/step - loss: 79.5743 - mse: 79.5743 - r2_score: 0.1174 - val_loss: 92.2359 - val_mse: 92.2359 - val_r2_score: -0.0913\n",
            "Epoch 45/50\n",
            "\u001b[1m11/11\u001b[0m \u001b[32m━━━━━━━━━━━━━━━━━━━━\u001b[0m\u001b[37m\u001b[0m \u001b[1m0s\u001b[0m 11ms/step - loss: 75.9828 - mse: 75.9828 - r2_score: 0.0572 - val_loss: 91.2039 - val_mse: 91.2039 - val_r2_score: -0.0791\n",
            "Epoch 46/50\n",
            "\u001b[1m11/11\u001b[0m \u001b[32m━━━━━━━━━━━━━━━━━━━━\u001b[0m\u001b[37m\u001b[0m \u001b[1m0s\u001b[0m 10ms/step - loss: 72.3396 - mse: 72.3396 - r2_score: 9.6630e-04 - val_loss: 91.4065 - val_mse: 91.4065 - val_r2_score: -0.0815\n",
            "Epoch 47/50\n",
            "\u001b[1m11/11\u001b[0m \u001b[32m━━━━━━━━━━━━━━━━━━━━\u001b[0m\u001b[37m\u001b[0m \u001b[1m0s\u001b[0m 11ms/step - loss: 83.2955 - mse: 83.2955 - r2_score: 0.0831 - val_loss: 89.9412 - val_mse: 89.9412 - val_r2_score: -0.0641\n",
            "Epoch 48/50\n",
            "\u001b[1m11/11\u001b[0m \u001b[32m━━━━━━━━━━━━━━━━━━━━\u001b[0m\u001b[37m\u001b[0m \u001b[1m0s\u001b[0m 11ms/step - loss: 73.2141 - mse: 73.2141 - r2_score: 0.1635 - val_loss: 88.0118 - val_mse: 88.0118 - val_r2_score: -0.0413\n",
            "Epoch 49/50\n",
            "\u001b[1m11/11\u001b[0m \u001b[32m━━━━━━━━━━━━━━━━━━━━\u001b[0m\u001b[37m\u001b[0m \u001b[1m0s\u001b[0m 11ms/step - loss: 61.0729 - mse: 61.0729 - r2_score: 0.1836 - val_loss: 88.1712 - val_mse: 88.1712 - val_r2_score: -0.0432\n",
            "Epoch 50/50\n",
            "\u001b[1m11/11\u001b[0m \u001b[32m━━━━━━━━━━━━━━━━━━━━\u001b[0m\u001b[37m\u001b[0m \u001b[1m0s\u001b[0m 11ms/step - loss: 78.8034 - mse: 78.8034 - r2_score: 0.1871 - val_loss: 87.6986 - val_mse: 87.6986 - val_r2_score: -0.0376\n"
          ]
        }
      ]
    },
    {
      "cell_type": "code",
      "source": [
        "y_pred = model_seq.predict(X_test)"
      ],
      "metadata": {
        "colab": {
          "base_uri": "https://localhost:8080/"
        },
        "id": "hc0737fJA52t",
        "outputId": "bc55e5aa-e952-4cb8-fa71-b95eac916acb"
      },
      "execution_count": 43,
      "outputs": [
        {
          "output_type": "stream",
          "name": "stdout",
          "text": [
            "\u001b[1m4/4\u001b[0m \u001b[32m━━━━━━━━━━━━━━━━━━━━\u001b[0m\u001b[37m\u001b[0m \u001b[1m0s\u001b[0m 8ms/step \n"
          ]
        }
      ]
    },
    {
      "cell_type": "code",
      "source": [
        "model_seq.plot_metrics(metrics_df)"
      ],
      "metadata": {
        "colab": {
          "base_uri": "https://localhost:8080/",
          "height": 391
        },
        "id": "brgTIoyCBBif",
        "outputId": "c3afead9-411b-4157-db8c-83fa4f803f76"
      },
      "execution_count": 45,
      "outputs": [
        {
          "output_type": "display_data",
          "data": {
            "text/plain": [
              "<Figure size 1000x400 with 3 Axes>"
            ],
            "image/png": "[encoded data removed]"
          },
          "metadata": {}
        }
      ]
    },
    {
      "cell_type": "code",
      "source": [],
      "metadata": {
        "id": "i47jtcIEBVID"
      },
      "execution_count": null,
      "outputs": []
    }
  ]
}