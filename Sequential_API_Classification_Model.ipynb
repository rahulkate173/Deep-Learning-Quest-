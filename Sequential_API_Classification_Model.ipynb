{
  "nbformat": 4,
  "nbformat_minor": 0,
  "metadata": {
    "colab": {
      "provenance": []
    },
    "kernelspec": {
      "name": "python3",
      "display_name": "Python 3"
    },
    "language_info": {
      "name": "python"
    }
  },
  "cells": [
    {
      "cell_type": "markdown",
      "source": [
        "## Sequential API\n",
        "#### The Sequential API model is the simplest kind of keras model for neural networks and it just composed and single stack of layers connected Sequentially\n",
        "#### So in this work we are building and sequential api model part os keras as which is backed by tenserflow"
      ],
      "metadata": {
        "id": "PVui37qItLfn"
      }
    },
    {
      "cell_type": "code",
      "source": [
        "### The initiallly building of tenserflow and keras api\n",
        "import tensorflow as tf\n",
        "from tensorflow import keras\n",
        "print(tf.__version__) # The version of tenserflow to comfirm that it exist on system\n",
        "print(keras.__version__) # The version of tenserflow.keras to comfirm that it exist on system and it is noticed by the end of the version"
      ],
      "metadata": {
        "colab": {
          "base_uri": "https://localhost:8080/"
        },
        "id": "4Y0JcwY-tOgg",
        "outputId": "a6111007-fcf2-4ae7-9b69-fca162256827"
      },
      "execution_count": null,
      "outputs": [
        {
          "output_type": "stream",
          "name": "stdout",
          "text": [
            "2.19.0\n",
            "3.10.0\n"
          ]
        }
      ]
    },
    {
      "cell_type": "markdown",
      "source": [
        "### Building and Image Classifier Using Sequential API\n",
        "##### In this case we are building and neural network to classify the MNIST Fashion dataset and as the problem turns more significantly hard because it as the fashion items which makes each item as individual class"
      ],
      "metadata": {
        "id": "ehpUJ_BrudBI"
      }
    },
    {
      "cell_type": "code",
      "source": [
        "## Importing data from keras api\n",
        "fashion_mnist = keras.datasets.fashion_mnist\n",
        "(X_train_full,y_train_full) , (X_test,y_test) = fashion_mnist.load_data() # Already data is divided into the train and test tuple + the X , y set inside the tuple\n",
        "## Lets talk that why we had did the notation like \"X_train_full\" because we have to divide the training data into validiation set"
      ],
      "metadata": {
        "colab": {
          "base_uri": "https://localhost:8080/"
        },
        "id": "AkEjy9C4uWn0",
        "outputId": "129b2d30-b4e9-4a91-e35a-566c33dd1c96"
      },
      "execution_count": null,
      "outputs": [
        {
          "output_type": "stream",
          "name": "stdout",
          "text": [
            "Downloading data from https://storage.googleapis.com/tensorflow/tf-keras-datasets/train-labels-idx1-ubyte.gz\n",
            "\u001b[1m29515/29515\u001b[0m \u001b[32m━━━━━━━━━━━━━━━━━━━━\u001b[0m\u001b[37m\u001b[0m \u001b[1m0s\u001b[0m 0us/step\n",
            "Downloading data from https://storage.googleapis.com/tensorflow/tf-keras-datasets/train-images-idx3-ubyte.gz\n",
            "\u001b[1m26421880/26421880\u001b[0m \u001b[32m━━━━━━━━━━━━━━━━━━━━\u001b[0m\u001b[37m\u001b[0m \u001b[1m2s\u001b[0m 0us/step\n",
            "Downloading data from https://storage.googleapis.com/tensorflow/tf-keras-datasets/t10k-labels-idx1-ubyte.gz\n",
            "\u001b[1m5148/5148\u001b[0m \u001b[32m━━━━━━━━━━━━━━━━━━━━\u001b[0m\u001b[37m\u001b[0m \u001b[1m0s\u001b[0m 0us/step\n",
            "Downloading data from https://storage.googleapis.com/tensorflow/tf-keras-datasets/t10k-images-idx3-ubyte.gz\n",
            "\u001b[1m4422102/4422102\u001b[0m \u001b[32m━━━━━━━━━━━━━━━━━━━━\u001b[0m\u001b[37m\u001b[0m \u001b[1m1s\u001b[0m 0us/step\n"
          ]
        }
      ]
    },
    {
      "cell_type": "code",
      "source": [
        "# Lets check the Shape of data\n",
        "print(X_train_full.shape)\n",
        "print(y_train_full.shape)\n",
        "## Lets talk more about the data structure because it consist of 28 x 28 pixels and 60000 entries"
      ],
      "metadata": {
        "colab": {
          "base_uri": "https://localhost:8080/"
        },
        "id": "7oUqPc3lvvJ4",
        "outputId": "c0321a7c-ba61-4499-8f91-783a8b64e36e"
      },
      "execution_count": null,
      "outputs": [
        {
          "output_type": "stream",
          "name": "stdout",
          "text": [
            "(60000, 28, 28)\n",
            "(60000,)\n"
          ]
        }
      ]
    },
    {
      "cell_type": "code",
      "source": [
        "## The each entry of the data is of 0-255 pixels intensities . So to make it easy form neural network we divide each entry by 255.0\n",
        "X_valid , X_train = X_train_full[:5000]/255.0 , X_train_full[5000:]/255.0\n",
        "y_valid , y_train = y_train_full[:5000]/255.0 , y_train_full[5000:]/255.0"
      ],
      "metadata": {
        "id": "hC7nxWdtv7Op"
      },
      "execution_count": null,
      "outputs": []
    },
    {
      "cell_type": "code",
      "source": [
        "## Class names for the data\n",
        "class_names = [\"T-shirt/top\" , \"Trouser\" , \"Pullover\",\"Dress\",\"Coat\",\"Sandal\",\"Shirt\",\"Sneaker\",\"Bag\",\"Ankle boot\"]"
      ],
      "metadata": {
        "id": "Rq4XnP2Dw1gh"
      },
      "execution_count": null,
      "outputs": []
    },
    {
      "cell_type": "code",
      "source": [
        "## Creating model using Sequential API\n",
        "model = keras.models.Sequential() # to build the Sequential Class object\n",
        "model.add(keras.layers.Flatten(input_shape=[28,28])) # The input neurons for the neural nets having the input shape of image = (28 x 28) one image\n",
        "model.add(keras.layers.Dense(300,activation='relu')) # The hidden layers aka Dense Layes with 300 neurons and activation function = relu\n",
        "model.add(keras.layers.Dense(100,activation=keras.activations.relu))\n",
        "model.add(keras.layers.Dense(10,activation='softmax')) # The Dense output layer with 10 neuron (1 neuron per class) and with activation function = softmax\n",
        "## Activation function can be also written as activation = keras.activations.relu"
      ],
      "metadata": {
        "colab": {
          "base_uri": "https://localhost:8080/"
        },
        "id": "0pfLZAMJxORp",
        "outputId": "781e0513-bc2d-4526-9486-9cd6d4f6dfd3"
      },
      "execution_count": null,
      "outputs": [
        {
          "output_type": "stream",
          "name": "stderr",
          "text": [
            "/usr/local/lib/python3.12/dist-packages/keras/src/layers/reshaping/flatten.py:37: UserWarning: Do not pass an `input_shape`/`input_dim` argument to a layer. When using Sequential models, prefer using an `Input(shape)` object as the first layer in the model instead.\n",
            "  super().__init__(**kwargs)\n"
          ]
        }
      ]
    },
    {
      "cell_type": "code",
      "source": [
        "## Model Summary\n",
        "## It contains of Layers , parameters (trainable and non trainable) , shape os layers\n",
        "model.summary()"
      ],
      "metadata": {
        "colab": {
          "base_uri": "https://localhost:8080/",
          "height": 257
        },
        "id": "Fqflf_RZym6d",
        "outputId": "15b26464-8b26-4103-8dff-8f6a6697a06c"
      },
      "execution_count": null,
      "outputs": [
        {
          "output_type": "display_data",
          "data": {
            "text/plain": [
              "\u001b[1mModel: \"sequential\"\u001b[0m\n"
            ],
            "text/html": [
              "<pre style=\"white-space:pre;overflow-x:auto;line-height:normal;font-family:Menlo,'DejaVu Sans Mono',consolas,'Courier New',monospace\"><span style=\"font-weight: bold\">Model: \"sequential\"</span>\n",
              "</pre>\n"
            ]
          },
          "metadata": {}
        },
        {
          "output_type": "display_data",
          "data": {
            "text/plain": [
              "┏━━━━━━━━━━━━━━━━━━━━━━━━━━━━━━━━━┳━━━━━━━━━━━━━━━━━━━━━━━━┳━━━━━━━━━━━━━━━┓\n",
              "┃\u001b[1m \u001b[0m\u001b[1mLayer (type)                   \u001b[0m\u001b[1m \u001b[0m┃\u001b[1m \u001b[0m\u001b[1mOutput Shape          \u001b[0m\u001b[1m \u001b[0m┃\u001b[1m \u001b[0m\u001b[1m      Param #\u001b[0m\u001b[1m \u001b[0m┃\n",
              "┡━━━━━━━━━━━━━━━━━━━━━━━━━━━━━━━━━╇━━━━━━━━━━━━━━━━━━━━━━━━╇━━━━━━━━━━━━━━━┩\n",
              "│ flatten (\u001b[38;5;33mFlatten\u001b[0m)               │ (\u001b[38;5;45mNone\u001b[0m, \u001b[38;5;34m784\u001b[0m)            │             \u001b[38;5;34m0\u001b[0m │\n",
              "├─────────────────────────────────┼────────────────────────┼───────────────┤\n",
              "│ dense (\u001b[38;5;33mDense\u001b[0m)                   │ (\u001b[38;5;45mNone\u001b[0m, \u001b[38;5;34m300\u001b[0m)            │       \u001b[38;5;34m235,500\u001b[0m │\n",
              "├─────────────────────────────────┼────────────────────────┼───────────────┤\n",
              "│ dense_1 (\u001b[38;5;33mDense\u001b[0m)                 │ (\u001b[38;5;45mNone\u001b[0m, \u001b[38;5;34m100\u001b[0m)            │        \u001b[38;5;34m30,100\u001b[0m │\n",
              "├─────────────────────────────────┼────────────────────────┼───────────────┤\n",
              "│ dense_2 (\u001b[38;5;33mDense\u001b[0m)                 │ (\u001b[38;5;45mNone\u001b[0m, \u001b[38;5;34m10\u001b[0m)             │         \u001b[38;5;34m1,010\u001b[0m │\n",
              "└─────────────────────────────────┴────────────────────────┴───────────────┘\n"
            ],
            "text/html": [
              "<pre style=\"white-space:pre;overflow-x:auto;line-height:normal;font-family:Menlo,'DejaVu Sans Mono',consolas,'Courier New',monospace\">┏━━━━━━━━━━━━━━━━━━━━━━━━━━━━━━━━━┳━━━━━━━━━━━━━━━━━━━━━━━━┳━━━━━━━━━━━━━━━┓\n",
              "┃<span style=\"font-weight: bold\"> Layer (type)                    </span>┃<span style=\"font-weight: bold\"> Output Shape           </span>┃<span style=\"font-weight: bold\">       Param # </span>┃\n",
              "┡━━━━━━━━━━━━━━━━━━━━━━━━━━━━━━━━━╇━━━━━━━━━━━━━━━━━━━━━━━━╇━━━━━━━━━━━━━━━┩\n",
              "│ flatten (<span style=\"color: #0087ff; text-decoration-color: #0087ff\">Flatten</span>)               │ (<span style=\"color: #00d7ff; text-decoration-color: #00d7ff\">None</span>, <span style=\"color: #00af00; text-decoration-color: #00af00\">784</span>)            │             <span style=\"color: #00af00; text-decoration-color: #00af00\">0</span> │\n",
              "├─────────────────────────────────┼────────────────────────┼───────────────┤\n",
              "│ dense (<span style=\"color: #0087ff; text-decoration-color: #0087ff\">Dense</span>)                   │ (<span style=\"color: #00d7ff; text-decoration-color: #00d7ff\">None</span>, <span style=\"color: #00af00; text-decoration-color: #00af00\">300</span>)            │       <span style=\"color: #00af00; text-decoration-color: #00af00\">235,500</span> │\n",
              "├─────────────────────────────────┼────────────────────────┼───────────────┤\n",
              "│ dense_1 (<span style=\"color: #0087ff; text-decoration-color: #0087ff\">Dense</span>)                 │ (<span style=\"color: #00d7ff; text-decoration-color: #00d7ff\">None</span>, <span style=\"color: #00af00; text-decoration-color: #00af00\">100</span>)            │        <span style=\"color: #00af00; text-decoration-color: #00af00\">30,100</span> │\n",
              "├─────────────────────────────────┼────────────────────────┼───────────────┤\n",
              "│ dense_2 (<span style=\"color: #0087ff; text-decoration-color: #0087ff\">Dense</span>)                 │ (<span style=\"color: #00d7ff; text-decoration-color: #00d7ff\">None</span>, <span style=\"color: #00af00; text-decoration-color: #00af00\">10</span>)             │         <span style=\"color: #00af00; text-decoration-color: #00af00\">1,010</span> │\n",
              "└─────────────────────────────────┴────────────────────────┴───────────────┘\n",
              "</pre>\n"
            ]
          },
          "metadata": {}
        },
        {
          "output_type": "display_data",
          "data": {
            "text/plain": [
              "\u001b[1m Total params: \u001b[0m\u001b[38;5;34m266,610\u001b[0m (1.02 MB)\n"
            ],
            "text/html": [
              "<pre style=\"white-space:pre;overflow-x:auto;line-height:normal;font-family:Menlo,'DejaVu Sans Mono',consolas,'Courier New',monospace\"><span style=\"font-weight: bold\"> Total params: </span><span style=\"color: #00af00; text-decoration-color: #00af00\">266,610</span> (1.02 MB)\n",
              "</pre>\n"
            ]
          },
          "metadata": {}
        },
        {
          "output_type": "display_data",
          "data": {
            "text/plain": [
              "\u001b[1m Trainable params: \u001b[0m\u001b[38;5;34m266,610\u001b[0m (1.02 MB)\n"
            ],
            "text/html": [
              "<pre style=\"white-space:pre;overflow-x:auto;line-height:normal;font-family:Menlo,'DejaVu Sans Mono',consolas,'Courier New',monospace\"><span style=\"font-weight: bold\"> Trainable params: </span><span style=\"color: #00af00; text-decoration-color: #00af00\">266,610</span> (1.02 MB)\n",
              "</pre>\n"
            ]
          },
          "metadata": {}
        },
        {
          "output_type": "display_data",
          "data": {
            "text/plain": [
              "\u001b[1m Non-trainable params: \u001b[0m\u001b[38;5;34m0\u001b[0m (0.00 B)\n"
            ],
            "text/html": [
              "<pre style=\"white-space:pre;overflow-x:auto;line-height:normal;font-family:Menlo,'DejaVu Sans Mono',consolas,'Courier New',monospace\"><span style=\"font-weight: bold\"> Non-trainable params: </span><span style=\"color: #00af00; text-decoration-color: #00af00\">0</span> (0.00 B)\n",
              "</pre>\n"
            ]
          },
          "metadata": {}
        }
      ]
    },
    {
      "cell_type": "markdown",
      "source": [
        "##### Often model can overfit the data when data is to small\n",
        "##### Eg: 784(entity) x 300 (wweights) + 300 (bias) = 23500 parameters"
      ],
      "metadata": {
        "id": "7gXK9tx1zGqc"
      }
    },
    {
      "cell_type": "code",
      "source": [
        "## THe list of model layers\n",
        "model.layers"
      ],
      "metadata": {
        "colab": {
          "base_uri": "https://localhost:8080/"
        },
        "id": "pDgxrvA7zCCL",
        "outputId": "e0d44a8b-a4cb-4b39-fb6b-97aa95e573a1"
      },
      "execution_count": null,
      "outputs": [
        {
          "output_type": "execute_result",
          "data": {
            "text/plain": [
              "[<Flatten name=flatten, built=True>,\n",
              " <Dense name=dense, built=True>,\n",
              " <Dense name=dense_1, built=True>,\n",
              " <Dense name=dense_2, built=True>]"
            ]
          },
          "metadata": {},
          "execution_count": 8
        }
      ]
    },
    {
      "cell_type": "code",
      "source": [
        "## The parameters of the layers\n",
        "## 1. get_weights() - to access the weights and biases of each hidden layers\n",
        "## 2. set_weights() - to set new values to the weights and biases in the hidden layers\n",
        "hidden_1 = model.layers[1] # the first layer in the neural network ( Dense )\n",
        "print(hidden_1 is model.get_layer('dense_1'))\n",
        "weights , biases = hidden_1.get_weights()\n",
        "print(weights)\n",
        "print(biases)"
      ],
      "metadata": {
        "colab": {
          "base_uri": "https://localhost:8080/"
        },
        "id": "GAnp7smYzs86",
        "outputId": "e69d02bd-ee4f-4b01-f2a3-e85666a84d96"
      },
      "execution_count": null,
      "outputs": [
        {
          "output_type": "stream",
          "name": "stdout",
          "text": [
            "False\n",
            "[[ 0.05162039 -0.00574788 -0.01640657 ...  0.0704367   0.0039234\n",
            "   0.00847263]\n",
            " [ 0.05000713 -0.00487466 -0.01537145 ...  0.0512879   0.02171724\n",
            "  -0.00140537]\n",
            " [ 0.06372263 -0.0089226   0.05717961 ... -0.03075504 -0.02499365\n",
            "  -0.03110845]\n",
            " ...\n",
            " [-0.01149734 -0.03342606  0.06804711 ...  0.03801715  0.00070848\n",
            "   0.03414532]\n",
            " [ 0.03580393 -0.03888806  0.03206193 ... -0.04764301  0.01923014\n",
            "   0.04288465]\n",
            " [-0.00143405 -0.0162361  -0.0039309  ...  0.03594077  0.03155889\n",
            "  -0.02153125]]\n",
            "[0. 0. 0. 0. 0. 0. 0. 0. 0. 0. 0. 0. 0. 0. 0. 0. 0. 0. 0. 0. 0. 0. 0. 0.\n",
            " 0. 0. 0. 0. 0. 0. 0. 0. 0. 0. 0. 0. 0. 0. 0. 0. 0. 0. 0. 0. 0. 0. 0. 0.\n",
            " 0. 0. 0. 0. 0. 0. 0. 0. 0. 0. 0. 0. 0. 0. 0. 0. 0. 0. 0. 0. 0. 0. 0. 0.\n",
            " 0. 0. 0. 0. 0. 0. 0. 0. 0. 0. 0. 0. 0. 0. 0. 0. 0. 0. 0. 0. 0. 0. 0. 0.\n",
            " 0. 0. 0. 0. 0. 0. 0. 0. 0. 0. 0. 0. 0. 0. 0. 0. 0. 0. 0. 0. 0. 0. 0. 0.\n",
            " 0. 0. 0. 0. 0. 0. 0. 0. 0. 0. 0. 0. 0. 0. 0. 0. 0. 0. 0. 0. 0. 0. 0. 0.\n",
            " 0. 0. 0. 0. 0. 0. 0. 0. 0. 0. 0. 0. 0. 0. 0. 0. 0. 0. 0. 0. 0. 0. 0. 0.\n",
            " 0. 0. 0. 0. 0. 0. 0. 0. 0. 0. 0. 0. 0. 0. 0. 0. 0. 0. 0. 0. 0. 0. 0. 0.\n",
            " 0. 0. 0. 0. 0. 0. 0. 0. 0. 0. 0. 0. 0. 0. 0. 0. 0. 0. 0. 0. 0. 0. 0. 0.\n",
            " 0. 0. 0. 0. 0. 0. 0. 0. 0. 0. 0. 0. 0. 0. 0. 0. 0. 0. 0. 0. 0. 0. 0. 0.\n",
            " 0. 0. 0. 0. 0. 0. 0. 0. 0. 0. 0. 0. 0. 0. 0. 0. 0. 0. 0. 0. 0. 0. 0. 0.\n",
            " 0. 0. 0. 0. 0. 0. 0. 0. 0. 0. 0. 0. 0. 0. 0. 0. 0. 0. 0. 0. 0. 0. 0. 0.\n",
            " 0. 0. 0. 0. 0. 0. 0. 0. 0. 0. 0. 0.]\n"
          ]
        }
      ]
    },
    {
      "cell_type": "markdown",
      "source": [
        "##### So from the picture it is clearly seen that the weights are randomly initialized mostly fromt he standard normal distribution and the biases are initially zero  and it is valid\n",
        "##### If we wnat to set different initialization technique we can just use kernal_initializer ( for weights) and bias_initializer ( for bias )"
      ],
      "metadata": {
        "id": "T3Y0n1r70moe"
      }
    },
    {
      "cell_type": "code",
      "source": [
        "## Compiling the model\n",
        "model.compile(\n",
        "    loss = 'sparse_categorical_crossentropy',\n",
        "    optimizer = 'sgd', ## default learning rate is 0.01\n",
        "    ## Option optimizer = keras.optimizer.SGD(lr=???) any value of learning rate\n",
        "    metrics = ['accuracy']\n",
        ")\n",
        "\n",
        "## The parameter used in the complie\n",
        "## 1. loss = sparse_categorical_crossentropy -> Here sparse because their are model zeros ( to avoid memory it is converted to sparse) and categorical because we had the categorical data annd the cross entropy is good for classification\n",
        "## 2. optimizer = sgd (Stocastic Gradient Descent) -> and simple algorithm to get the global minima and used because the backpropogation will done to update the values of weights and biases and stocastic is fast\n",
        "## 3. metrics = accuray -> Just to get the correctly classification"
      ],
      "metadata": {
        "id": "32I33jM-0h56"
      },
      "execution_count": null,
      "outputs": []
    },
    {
      "cell_type": "markdown",
      "source": [
        "## Just write here the target probability case that lead to change in the parameters values"
      ],
      "metadata": {
        "id": "bWfUZlMm28By"
      }
    },
    {
      "cell_type": "code",
      "source": [
        "## Training and Evaluating the model\n",
        "history = model.fit(X_train,y_train,epochs=30,\n",
        "                    validation_data = (X_valid,y_valid))"
      ],
      "metadata": {
        "colab": {
          "base_uri": "https://localhost:8080/"
        },
        "id": "6nlfcB7B27IN",
        "outputId": "b7bc5258-3476-4b80-c199-bc31b0edb139"
      },
      "execution_count": null,
      "outputs": [
        {
          "output_type": "stream",
          "name": "stdout",
          "text": [
            "Epoch 1/30\n",
            "\u001b[1m1719/1719\u001b[0m \u001b[32m━━━━━━━━━━━━━━━━━━━━\u001b[0m\u001b[37m\u001b[0m \u001b[1m7s\u001b[0m 4ms/step - accuracy: 0.0989 - loss: 0.0563 - val_accuracy: 0.0914 - val_loss: 0.0011\n",
            "Epoch 2/30\n",
            "\u001b[1m1719/1719\u001b[0m \u001b[32m━━━━━━━━━━━━━━━━━━━━\u001b[0m\u001b[37m\u001b[0m \u001b[1m16s\u001b[0m 9ms/step - accuracy: 0.1008 - loss: 9.2573e-04 - val_accuracy: 0.0914 - val_loss: 5.1195e-04\n",
            "Epoch 3/30\n",
            "\u001b[1m1719/1719\u001b[0m \u001b[32m━━━━━━━━━━━━━━━━━━━━\u001b[0m\u001b[37m\u001b[0m \u001b[1m13s\u001b[0m 5ms/step - accuracy: 0.1013 - loss: 4.4389e-04 - val_accuracy: 0.0914 - val_loss: 3.3290e-04\n",
            "Epoch 4/30\n",
            "\u001b[1m1719/1719\u001b[0m \u001b[32m━━━━━━━━━━━━━━━━━━━━\u001b[0m\u001b[37m\u001b[0m \u001b[1m8s\u001b[0m 4ms/step - accuracy: 0.0996 - loss: 2.8620e-04 - val_accuracy: 0.0914 - val_loss: 2.4572e-04\n",
            "Epoch 5/30\n",
            "\u001b[1m1719/1719\u001b[0m \u001b[32m━━━━━━━━━━━━━━━━━━━━\u001b[0m\u001b[37m\u001b[0m \u001b[1m8s\u001b[0m 4ms/step - accuracy: 0.1001 - loss: 2.1553e-04 - val_accuracy: 0.0914 - val_loss: 1.9427e-04\n",
            "Epoch 6/30\n",
            "\u001b[1m1719/1719\u001b[0m \u001b[32m━━━━━━━━━━━━━━━━━━━━\u001b[0m\u001b[37m\u001b[0m \u001b[1m7s\u001b[0m 4ms/step - accuracy: 0.1003 - loss: 1.8544e-04 - val_accuracy: 0.0914 - val_loss: 1.6044e-04\n",
            "Epoch 7/30\n",
            "\u001b[1m1719/1719\u001b[0m \u001b[32m━━━━━━━━━━━━━━━━━━━━\u001b[0m\u001b[37m\u001b[0m \u001b[1m6s\u001b[0m 4ms/step - accuracy: 0.1019 - loss: 1.3182e-04 - val_accuracy: 0.0914 - val_loss: 1.3645e-04\n",
            "Epoch 8/30\n",
            "\u001b[1m1719/1719\u001b[0m \u001b[32m━━━━━━━━━━━━━━━━━━━━\u001b[0m\u001b[37m\u001b[0m \u001b[1m7s\u001b[0m 4ms/step - accuracy: 0.1008 - loss: 1.2105e-04 - val_accuracy: 0.0914 - val_loss: 1.1862e-04\n",
            "Epoch 9/30\n",
            "\u001b[1m1719/1719\u001b[0m \u001b[32m━━━━━━━━━━━━━━━━━━━━\u001b[0m\u001b[37m\u001b[0m \u001b[1m8s\u001b[0m 5ms/step - accuracy: 0.1023 - loss: 9.3773e-05 - val_accuracy: 0.0914 - val_loss: 1.0483e-04\n",
            "Epoch 10/30\n",
            "\u001b[1m1719/1719\u001b[0m \u001b[32m━━━━━━━━━━━━━━━━━━━━\u001b[0m\u001b[37m\u001b[0m \u001b[1m9s\u001b[0m 5ms/step - accuracy: 0.1006 - loss: 9.7905e-05 - val_accuracy: 0.0914 - val_loss: 9.3877e-05\n",
            "Epoch 11/30\n",
            "\u001b[1m1719/1719\u001b[0m \u001b[32m━━━━━━━━━━━━━━━━━━━━\u001b[0m\u001b[37m\u001b[0m \u001b[1m6s\u001b[0m 3ms/step - accuracy: 0.1001 - loss: 8.7231e-05 - val_accuracy: 0.0914 - val_loss: 8.4954e-05\n",
            "Epoch 12/30\n",
            "\u001b[1m1719/1719\u001b[0m \u001b[32m━━━━━━━━━━━━━━━━━━━━\u001b[0m\u001b[37m\u001b[0m \u001b[1m7s\u001b[0m 4ms/step - accuracy: 0.1000 - loss: 8.6483e-05 - val_accuracy: 0.0914 - val_loss: 7.7556e-05\n",
            "Epoch 13/30\n",
            "\u001b[1m1719/1719\u001b[0m \u001b[32m━━━━━━━━━━━━━━━━━━━━\u001b[0m\u001b[37m\u001b[0m \u001b[1m5s\u001b[0m 3ms/step - accuracy: 0.1009 - loss: 7.4381e-05 - val_accuracy: 0.0914 - val_loss: 7.1316e-05\n",
            "Epoch 14/30\n",
            "\u001b[1m1719/1719\u001b[0m \u001b[32m━━━━━━━━━━━━━━━━━━━━\u001b[0m\u001b[37m\u001b[0m \u001b[1m7s\u001b[0m 4ms/step - accuracy: 0.1029 - loss: 6.8162e-05 - val_accuracy: 0.0914 - val_loss: 6.5991e-05\n",
            "Epoch 15/30\n",
            "\u001b[1m1719/1719\u001b[0m \u001b[32m━━━━━━━━━━━━━━━━━━━━\u001b[0m\u001b[37m\u001b[0m \u001b[1m7s\u001b[0m 4ms/step - accuracy: 0.0988 - loss: 6.4729e-05 - val_accuracy: 0.0914 - val_loss: 6.1388e-05\n",
            "Epoch 16/30\n",
            "\u001b[1m1719/1719\u001b[0m \u001b[32m━━━━━━━━━━━━━━━━━━━━\u001b[0m\u001b[37m\u001b[0m \u001b[1m7s\u001b[0m 4ms/step - accuracy: 0.1022 - loss: 5.7236e-05 - val_accuracy: 0.0914 - val_loss: 5.7375e-05\n",
            "Epoch 17/30\n",
            "\u001b[1m1719/1719\u001b[0m \u001b[32m━━━━━━━━━━━━━━━━━━━━\u001b[0m\u001b[37m\u001b[0m \u001b[1m8s\u001b[0m 5ms/step - accuracy: 0.1002 - loss: 5.7569e-05 - val_accuracy: 0.0914 - val_loss: 5.3843e-05\n",
            "Epoch 18/30\n",
            "\u001b[1m1719/1719\u001b[0m \u001b[32m━━━━━━━━━━━━━━━━━━━━\u001b[0m\u001b[37m\u001b[0m \u001b[1m7s\u001b[0m 4ms/step - accuracy: 0.1010 - loss: 4.9654e-05 - val_accuracy: 0.0914 - val_loss: 5.0710e-05\n",
            "Epoch 19/30\n",
            "\u001b[1m1719/1719\u001b[0m \u001b[32m━━━━━━━━━━━━━━━━━━━━\u001b[0m\u001b[37m\u001b[0m \u001b[1m10s\u001b[0m 4ms/step - accuracy: 0.1009 - loss: 4.7382e-05 - val_accuracy: 0.0914 - val_loss: 4.7914e-05\n",
            "Epoch 20/30\n",
            "\u001b[1m1719/1719\u001b[0m \u001b[32m━━━━━━━━━━━━━━━━━━━━\u001b[0m\u001b[37m\u001b[0m \u001b[1m7s\u001b[0m 4ms/step - accuracy: 0.1012 - loss: 3.9911e-05 - val_accuracy: 0.0914 - val_loss: 4.5404e-05\n",
            "Epoch 21/30\n",
            "\u001b[1m1719/1719\u001b[0m \u001b[32m━━━━━━━━━━━━━━━━━━━━\u001b[0m\u001b[37m\u001b[0m \u001b[1m7s\u001b[0m 4ms/step - accuracy: 0.1007 - loss: 4.0622e-05 - val_accuracy: 0.0914 - val_loss: 4.3139e-05\n",
            "Epoch 22/30\n",
            "\u001b[1m1719/1719\u001b[0m \u001b[32m━━━━━━━━━━━━━━━━━━━━\u001b[0m\u001b[37m\u001b[0m \u001b[1m6s\u001b[0m 4ms/step - accuracy: 0.1018 - loss: 4.4926e-05 - val_accuracy: 0.0914 - val_loss: 4.1084e-05\n",
            "Epoch 23/30\n",
            "\u001b[1m1719/1719\u001b[0m \u001b[32m━━━━━━━━━━━━━━━━━━━━\u001b[0m\u001b[37m\u001b[0m \u001b[1m7s\u001b[0m 4ms/step - accuracy: 0.1016 - loss: 3.0705e-05 - val_accuracy: 0.0914 - val_loss: 3.9209e-05\n",
            "Epoch 24/30\n",
            "\u001b[1m1719/1719\u001b[0m \u001b[32m━━━━━━━━━━━━━━━━━━━━\u001b[0m\u001b[37m\u001b[0m \u001b[1m7s\u001b[0m 4ms/step - accuracy: 0.1014 - loss: 3.4449e-05 - val_accuracy: 0.0914 - val_loss: 3.7497e-05\n",
            "Epoch 25/30\n",
            "\u001b[1m1719/1719\u001b[0m \u001b[32m━━━━━━━━━━━━━━━━━━━━\u001b[0m\u001b[37m\u001b[0m \u001b[1m9s\u001b[0m 3ms/step - accuracy: 0.0992 - loss: 3.3275e-05 - val_accuracy: 0.0914 - val_loss: 3.5925e-05\n",
            "Epoch 26/30\n",
            "\u001b[1m1719/1719\u001b[0m \u001b[32m━━━━━━━━━━━━━━━━━━━━\u001b[0m\u001b[37m\u001b[0m \u001b[1m7s\u001b[0m 4ms/step - accuracy: 0.0985 - loss: 3.5828e-05 - val_accuracy: 0.0914 - val_loss: 3.4475e-05\n",
            "Epoch 27/30\n",
            "\u001b[1m1719/1719\u001b[0m \u001b[32m━━━━━━━━━━━━━━━━━━━━\u001b[0m\u001b[37m\u001b[0m \u001b[1m6s\u001b[0m 3ms/step - accuracy: 0.0999 - loss: 2.7671e-05 - val_accuracy: 0.0914 - val_loss: 3.3136e-05\n",
            "Epoch 28/30\n",
            "\u001b[1m1719/1719\u001b[0m \u001b[32m━━━━━━━━━━━━━━━━━━━━\u001b[0m\u001b[37m\u001b[0m \u001b[1m7s\u001b[0m 4ms/step - accuracy: 0.1004 - loss: 2.8593e-05 - val_accuracy: 0.0914 - val_loss: 3.1895e-05\n",
            "Epoch 29/30\n",
            "\u001b[1m1719/1719\u001b[0m \u001b[32m━━━━━━━━━━━━━━━━━━━━\u001b[0m\u001b[37m\u001b[0m \u001b[1m6s\u001b[0m 3ms/step - accuracy: 0.1012 - loss: 3.0530e-05 - val_accuracy: 0.0914 - val_loss: 3.0742e-05\n",
            "Epoch 30/30\n",
            "\u001b[1m1719/1719\u001b[0m \u001b[32m━━━━━━━━━━━━━━━━━━━━\u001b[0m\u001b[37m\u001b[0m \u001b[1m7s\u001b[0m 4ms/step - accuracy: 0.0992 - loss: 2.6411e-05 - val_accuracy: 0.0914 - val_loss: 2.9666e-05\n"
          ]
        }
      ]
    },
    {
      "cell_type": "markdown",
      "source": [
        "## And that is DONE !!!"
      ],
      "metadata": {
        "id": "oo22Xnft5SNQ"
      }
    },
    {
      "cell_type": "code",
      "source": [
        "## The fit() method returns the history object contining the training parameter\n",
        "## 1.the parameters used\n",
        "print(f\"Parameters for training : \\n{history.params}\")\n",
        "## 2.the epoch - list of epoch through it went\n",
        "print(f\"List of epochs : \\n{history.epoch}\")\n",
        "## 3.the extra metrics dictonary\n",
        "print(f\"Metrics : \\n{history.history}\")"
      ],
      "metadata": {
        "colab": {
          "base_uri": "https://localhost:8080/"
        },
        "id": "TAxpjQj538Il",
        "outputId": "4ac25ac0-541d-4a13-cd53-5bdfa9634934"
      },
      "execution_count": null,
      "outputs": [
        {
          "output_type": "stream",
          "name": "stdout",
          "text": [
            "Parameters for training : \n",
            "{'verbose': 'auto', 'epochs': 30, 'steps': 1719}\n",
            "List of epochs : \n",
            "[0, 1, 2, 3, 4, 5, 6, 7, 8, 9, 10, 11, 12, 13, 14, 15, 16, 17, 18, 19, 20, 21, 22, 23, 24, 25, 26, 27, 28, 29]\n",
            "Metrics : \n",
            "{'accuracy': [0.10074545443058014, 0.10078182071447372, 0.10078182071447372, 0.10078182071447372, 0.10078182071447372, 0.10078182071447372, 0.10078182071447372, 0.10078182071447372, 0.10078182071447372, 0.10078182071447372, 0.10078182071447372, 0.10078182071447372, 0.10078182071447372, 0.10078182071447372, 0.10078182071447372, 0.10078182071447372, 0.10078182071447372, 0.10078182071447372, 0.10078182071447372, 0.10078182071447372, 0.10078182071447372, 0.10078182071447372, 0.10078182071447372, 0.10078182071447372, 0.10078182071447372, 0.10078182071447372, 0.10078182071447372, 0.10078182071447372, 0.10078182071447372, 0.10078182071447372], 'loss': [0.013043103739619255, 0.0007495582103729248, 0.0004133071633987129, 0.0002830635057762265, 0.00021419484983198345, 0.00017174477397929877, 0.00014303559146355838, 0.0001223541039507836, 0.00010676177771529183, 9.460525325266644e-05, 8.487665036227554e-05, 7.691438804613426e-05, 7.027773972367868e-05, 6.466836202889681e-05, 5.986445466987789e-05, 5.570690336753614e-05, 5.2074985433137044e-05, 4.887547038379125e-05, 4.6035398554522544e-05, 4.350044400780462e-05, 4.122242899029516e-05, 3.916570494766347e-05, 3.7299607356544584e-05, 3.559585820767097e-05, 3.403880327823572e-05, 3.2609215850243345e-05, 3.1291991035686806e-05, 3.0073644666117616e-05, 2.894469434977509e-05, 2.7895610401174054e-05], 'val_accuracy': [0.09139999747276306, 0.09139999747276306, 0.09139999747276306, 0.09139999747276306, 0.09139999747276306, 0.09139999747276306, 0.09139999747276306, 0.09139999747276306, 0.09139999747276306, 0.09139999747276306, 0.09139999747276306, 0.09139999747276306, 0.09139999747276306, 0.09139999747276306, 0.09139999747276306, 0.09139999747276306, 0.09139999747276306, 0.09139999747276306, 0.09139999747276306, 0.09139999747276306, 0.09139999747276306, 0.09139999747276306, 0.09139999747276306, 0.09139999747276306, 0.09139999747276306, 0.09139999747276306, 0.09139999747276306, 0.09139999747276306, 0.09139999747276306, 0.09139999747276306], 'val_loss': [0.0010741896694526076, 0.0005119454581290483, 0.00033290201099589467, 0.0002457234950270504, 0.00019427263760007918, 0.0001604353601578623, 0.00013645307626575232, 0.00011862313840538263, 0.00010483244841452688, 9.387723548570648e-05, 8.495368820149451e-05, 7.755556725896895e-05, 7.131552411010489e-05, 6.599063635803759e-05, 6.138813478173688e-05, 5.7374913012608886e-05, 5.3843134082853794e-05, 5.0710128562059253e-05, 4.7914061724441126e-05, 4.540368536254391e-05, 4.3138523324159905e-05, 4.108427310711704e-05, 3.9209367969306186e-05, 3.749736424651928e-05, 3.5924778785556555e-05, 3.447524068178609e-05, 3.3136020647361875e-05, 3.189543349435553e-05, 3.074163032579236e-05, 2.9666007321793586e-05]}\n"
          ]
        }
      ]
    },
    {
      "cell_type": "code",
      "source": [
        "## Lets create the dataframe of the metrics used\n",
        "import pandas as pd\n",
        "metric_df = pd.DataFrame(history.history)\n",
        "metric_df.head()"
      ],
      "metadata": {
        "colab": {
          "base_uri": "https://localhost:8080/",
          "height": 206
        },
        "id": "VwujE3D56CKr",
        "outputId": "69b68a94-4892-46ce-ba1c-9cdb73552050"
      },
      "execution_count": null,
      "outputs": [
        {
          "output_type": "execute_result",
          "data": {
            "text/plain": [
              "   accuracy      loss  val_accuracy  val_loss\n",
              "0  0.100745  0.013043        0.0914  0.001074\n",
              "1  0.100782  0.000750        0.0914  0.000512\n",
              "2  0.100782  0.000413        0.0914  0.000333\n",
              "3  0.100782  0.000283        0.0914  0.000246\n",
              "4  0.100782  0.000214        0.0914  0.000194"
            ],
            "text/html": [
              "\n",
              "  <div id=\"df-b4b3c787-591c-43e5-920f-5d54537aa4b5\" class=\"colab-df-container\">\n",
              "    <div>\n",
              "<style scoped>\n",
              "    .dataframe tbody tr th:only-of-type {\n",
              "        vertical-align: middle;\n",
              "    }\n",
              "\n",
              "    .dataframe tbody tr th {\n",
              "        vertical-align: top;\n",
              "    }\n",
              "\n",
              "    .dataframe thead th {\n",
              "        text-align: right;\n",
              "    }\n",
              "</style>\n",
              "<table border=\"1\" class=\"dataframe\">\n",
              "  <thead>\n",
              "    <tr style=\"text-align: right;\">\n",
              "      <th></th>\n",
              "      <th>accuracy</th>\n",
              "      <th>loss</th>\n",
              "      <th>val_accuracy</th>\n",
              "      <th>val_loss</th>\n",
              "    </tr>\n",
              "  </thead>\n",
              "  <tbody>\n",
              "    <tr>\n",
              "      <th>0</th>\n",
              "      <td>0.100745</td>\n",
              "      <td>0.013043</td>\n",
              "      <td>0.0914</td>\n",
              "      <td>0.001074</td>\n",
              "    </tr>\n",
              "    <tr>\n",
              "      <th>1</th>\n",
              "      <td>0.100782</td>\n",
              "      <td>0.000750</td>\n",
              "      <td>0.0914</td>\n",
              "      <td>0.000512</td>\n",
              "    </tr>\n",
              "    <tr>\n",
              "      <th>2</th>\n",
              "      <td>0.100782</td>\n",
              "      <td>0.000413</td>\n",
              "      <td>0.0914</td>\n",
              "      <td>0.000333</td>\n",
              "    </tr>\n",
              "    <tr>\n",
              "      <th>3</th>\n",
              "      <td>0.100782</td>\n",
              "      <td>0.000283</td>\n",
              "      <td>0.0914</td>\n",
              "      <td>0.000246</td>\n",
              "    </tr>\n",
              "    <tr>\n",
              "      <th>4</th>\n",
              "      <td>0.100782</td>\n",
              "      <td>0.000214</td>\n",
              "      <td>0.0914</td>\n",
              "      <td>0.000194</td>\n",
              "    </tr>\n",
              "  </tbody>\n",
              "</table>\n",
              "</div>\n",
              "    <div class=\"colab-df-buttons\">\n",
              "\n",
              "  <div class=\"colab-df-container\">\n",
              "    <button class=\"colab-df-convert\" onclick=\"convertToInteractive('df-b4b3c787-591c-43e5-920f-5d54537aa4b5')\"\n",
              "            title=\"Convert this dataframe to an interactive table.\"\n",
              "            style=\"display:none;\">\n",
              "\n",
              "  <svg xmlns=\"http://www.w3.org/2000/svg\" height=\"24px\" viewBox=\"0 -960 960 960\">\n",
              "    <path d=\"M120-120v-720h720v720H120Zm60-500h600v-160H180v160Zm220 220h160v-160H400v160Zm0 220h160v-160H400v160ZM180-400h160v-160H180v160Zm440 0h160v-160H620v160ZM180-180h160v-160H180v160Zm440 0h160v-160H620v160Z\"/>\n",
              "  </svg>\n",
              "    </button>\n",
              "\n",
              "  <style>\n",
              "    .colab-df-container {\n",
              "      display:flex;\n",
              "      gap: 12px;\n",
              "    }\n",
              "\n",
              "    .colab-df-convert {\n",
              "      background-color: #E8F0FE;\n",
              "      border: none;\n",
              "      border-radius: 50%;\n",
              "      cursor: pointer;\n",
              "      display: none;\n",
              "      fill: #1967D2;\n",
              "      height: 32px;\n",
              "      padding: 0 0 0 0;\n",
              "      width: 32px;\n",
              "    }\n",
              "\n",
              "    .colab-df-convert:hover {\n",
              "      background-color: #E2EBFA;\n",
              "      box-shadow: 0px 1px 2px rgba(60, 64, 67, 0.3), 0px 1px 3px 1px rgba(60, 64, 67, 0.15);\n",
              "      fill: #174EA6;\n",
              "    }\n",
              "\n",
              "    .colab-df-buttons div {\n",
              "      margin-bottom: 4px;\n",
              "    }\n",
              "\n",
              "    [theme=dark] .colab-df-convert {\n",
              "      background-color: #3B4455;\n",
              "      fill: #D2E3FC;\n",
              "    }\n",
              "\n",
              "    [theme=dark] .colab-df-convert:hover {\n",
              "      background-color: #434B5C;\n",
              "      box-shadow: 0px 1px 3px 1px rgba(0, 0, 0, 0.15);\n",
              "      filter: drop-shadow(0px 1px 2px rgba(0, 0, 0, 0.3));\n",
              "      fill: #FFFFFF;\n",
              "    }\n",
              "  </style>\n",
              "\n",
              "    <script>\n",
              "      const buttonEl =\n",
              "        document.querySelector('#df-b4b3c787-591c-43e5-920f-5d54537aa4b5 button.colab-df-convert');\n",
              "      buttonEl.style.display =\n",
              "        google.colab.kernel.accessAllowed ? 'block' : 'none';\n",
              "\n",
              "      async function convertToInteractive(key) {\n",
              "        const element = document.querySelector('#df-b4b3c787-591c-43e5-920f-5d54537aa4b5');\n",
              "        const dataTable =\n",
              "          await google.colab.kernel.invokeFunction('convertToInteractive',\n",
              "                                                    [key], {});\n",
              "        if (!dataTable) return;\n",
              "\n",
              "        const docLinkHtml = 'Like what you see? Visit the ' +\n",
              "          '<a target=\"_blank\" href=https://colab.research.google.com/notebooks/data_table.ipynb>data table notebook</a>'\n",
              "          + ' to learn more about interactive tables.';\n",
              "        element.innerHTML = '';\n",
              "        dataTable['output_type'] = 'display_data';\n",
              "        await google.colab.output.renderOutput(dataTable, element);\n",
              "        const docLink = document.createElement('div');\n",
              "        docLink.innerHTML = docLinkHtml;\n",
              "        element.appendChild(docLink);\n",
              "      }\n",
              "    </script>\n",
              "  </div>\n",
              "\n",
              "\n",
              "    <div id=\"df-d0c3d1f7-c90c-4aa9-a4d9-9151daa3cc9e\">\n",
              "      <button class=\"colab-df-quickchart\" onclick=\"quickchart('df-d0c3d1f7-c90c-4aa9-a4d9-9151daa3cc9e')\"\n",
              "                title=\"Suggest charts\"\n",
              "                style=\"display:none;\">\n",
              "\n",
              "<svg xmlns=\"http://www.w3.org/2000/svg\" height=\"24px\"viewBox=\"0 0 24 24\"\n",
              "     width=\"24px\">\n",
              "    <g>\n",
              "        <path d=\"M19 3H5c-1.1 0-2 .9-2 2v14c0 1.1.9 2 2 2h14c1.1 0 2-.9 2-2V5c0-1.1-.9-2-2-2zM9 17H7v-7h2v7zm4 0h-2V7h2v10zm4 0h-2v-4h2v4z\"/>\n",
              "    </g>\n",
              "</svg>\n",
              "      </button>\n",
              "\n",
              "<style>\n",
              "  .colab-df-quickchart {\n",
              "      --bg-color: #E8F0FE;\n",
              "      --fill-color: #1967D2;\n",
              "      --hover-bg-color: #E2EBFA;\n",
              "      --hover-fill-color: #174EA6;\n",
              "      --disabled-fill-color: #AAA;\n",
              "      --disabled-bg-color: #DDD;\n",
              "  }\n",
              "\n",
              "  [theme=dark] .colab-df-quickchart {\n",
              "      --bg-color: #3B4455;\n",
              "      --fill-color: #D2E3FC;\n",
              "      --hover-bg-color: #434B5C;\n",
              "      --hover-fill-color: #FFFFFF;\n",
              "      --disabled-bg-color: #3B4455;\n",
              "      --disabled-fill-color: #666;\n",
              "  }\n",
              "\n",
              "  .colab-df-quickchart {\n",
              "    background-color: var(--bg-color);\n",
              "    border: none;\n",
              "    border-radius: 50%;\n",
              "    cursor: pointer;\n",
              "    display: none;\n",
              "    fill: var(--fill-color);\n",
              "    height: 32px;\n",
              "    padding: 0;\n",
              "    width: 32px;\n",
              "  }\n",
              "\n",
              "  .colab-df-quickchart:hover {\n",
              "    background-color: var(--hover-bg-color);\n",
              "    box-shadow: 0 1px 2px rgba(60, 64, 67, 0.3), 0 1px 3px 1px rgba(60, 64, 67, 0.15);\n",
              "    fill: var(--button-hover-fill-color);\n",
              "  }\n",
              "\n",
              "  .colab-df-quickchart-complete:disabled,\n",
              "  .colab-df-quickchart-complete:disabled:hover {\n",
              "    background-color: var(--disabled-bg-color);\n",
              "    fill: var(--disabled-fill-color);\n",
              "    box-shadow: none;\n",
              "  }\n",
              "\n",
              "  .colab-df-spinner {\n",
              "    border: 2px solid var(--fill-color);\n",
              "    border-color: transparent;\n",
              "    border-bottom-color: var(--fill-color);\n",
              "    animation:\n",
              "      spin 1s steps(1) infinite;\n",
              "  }\n",
              "\n",
              "  @keyframes spin {\n",
              "    0% {\n",
              "      border-color: transparent;\n",
              "      border-bottom-color: var(--fill-color);\n",
              "      border-left-color: var(--fill-color);\n",
              "    }\n",
              "    20% {\n",
              "      border-color: transparent;\n",
              "      border-left-color: var(--fill-color);\n",
              "      border-top-color: var(--fill-color);\n",
              "    }\n",
              "    30% {\n",
              "      border-color: transparent;\n",
              "      border-left-color: var(--fill-color);\n",
              "      border-top-color: var(--fill-color);\n",
              "      border-right-color: var(--fill-color);\n",
              "    }\n",
              "    40% {\n",
              "      border-color: transparent;\n",
              "      border-right-color: var(--fill-color);\n",
              "      border-top-color: var(--fill-color);\n",
              "    }\n",
              "    60% {\n",
              "      border-color: transparent;\n",
              "      border-right-color: var(--fill-color);\n",
              "    }\n",
              "    80% {\n",
              "      border-color: transparent;\n",
              "      border-right-color: var(--fill-color);\n",
              "      border-bottom-color: var(--fill-color);\n",
              "    }\n",
              "    90% {\n",
              "      border-color: transparent;\n",
              "      border-bottom-color: var(--fill-color);\n",
              "    }\n",
              "  }\n",
              "</style>\n",
              "\n",
              "      <script>\n",
              "        async function quickchart(key) {\n",
              "          const quickchartButtonEl =\n",
              "            document.querySelector('#' + key + ' button');\n",
              "          quickchartButtonEl.disabled = true;  // To prevent multiple clicks.\n",
              "          quickchartButtonEl.classList.add('colab-df-spinner');\n",
              "          try {\n",
              "            const charts = await google.colab.kernel.invokeFunction(\n",
              "                'suggestCharts', [key], {});\n",
              "          } catch (error) {\n",
              "            console.error('Error during call to suggestCharts:', error);\n",
              "          }\n",
              "          quickchartButtonEl.classList.remove('colab-df-spinner');\n",
              "          quickchartButtonEl.classList.add('colab-df-quickchart-complete');\n",
              "        }\n",
              "        (() => {\n",
              "          let quickchartButtonEl =\n",
              "            document.querySelector('#df-d0c3d1f7-c90c-4aa9-a4d9-9151daa3cc9e button');\n",
              "          quickchartButtonEl.style.display =\n",
              "            google.colab.kernel.accessAllowed ? 'block' : 'none';\n",
              "        })();\n",
              "      </script>\n",
              "    </div>\n",
              "\n",
              "    </div>\n",
              "  </div>\n"
            ],
            "application/vnd.google.colaboratory.intrinsic+json": {
              "type": "dataframe",
              "variable_name": "metric_df",
              "summary": "{\n  \"name\": \"metric_df\",\n  \"rows\": 30,\n  \"fields\": [\n    {\n      \"column\": \"accuracy\",\n      \"properties\": {\n        \"dtype\": \"number\",\n        \"std\": 6.639544673717804e-06,\n        \"min\": 0.10074545443058014,\n        \"max\": 0.10078182071447372,\n        \"num_unique_values\": 2,\n        \"samples\": [\n          0.10078182071447372,\n          0.10074545443058014\n        ],\n        \"semantic_type\": \"\",\n        \"description\": \"\"\n      }\n    },\n    {\n      \"column\": \"loss\",\n      \"properties\": {\n        \"dtype\": \"number\",\n        \"std\": 0.002365547579825688,\n        \"min\": 2.7895610401174054e-05,\n        \"max\": 0.013043103739619255,\n        \"num_unique_values\": 30,\n        \"samples\": [\n          3.0073644666117616e-05,\n          5.570690336753614e-05\n        ],\n        \"semantic_type\": \"\",\n        \"description\": \"\"\n      }\n    },\n    {\n      \"column\": \"val_accuracy\",\n      \"properties\": {\n        \"dtype\": \"number\",\n        \"std\": 0.0,\n        \"min\": 0.09139999747276306,\n        \"max\": 0.09139999747276306,\n        \"num_unique_values\": 1,\n        \"samples\": [\n          0.09139999747276306\n        ],\n        \"semantic_type\": \"\",\n        \"description\": \"\"\n      }\n    },\n    {\n      \"column\": \"val_loss\",\n      \"properties\": {\n        \"dtype\": \"number\",\n        \"std\": 0.00020648689351431085,\n        \"min\": 2.9666007321793586e-05,\n        \"max\": 0.0010741896694526076,\n        \"num_unique_values\": 30,\n        \"samples\": [\n          3.189543349435553e-05\n        ],\n        \"semantic_type\": \"\",\n        \"description\": \"\"\n      }\n    }\n  ]\n}"
            }
          },
          "metadata": {},
          "execution_count": 13
        }
      ]
    },
    {
      "cell_type": "code",
      "source": [
        "print(f\"Shape of metric_df : \\n{metric_df.shape}\")\n",
        "print(f\"The Information of dataframe : \\n {metric_df.info()}\")\n",
        "## Each row represent an epoch"
      ],
      "metadata": {
        "colab": {
          "base_uri": "https://localhost:8080/"
        },
        "id": "zUTzNcAE6Ydb",
        "outputId": "d31882b6-fcb9-4448-a6c5-77af57f5a1de"
      },
      "execution_count": null,
      "outputs": [
        {
          "output_type": "stream",
          "name": "stdout",
          "text": [
            "Shape of metric_df : \n",
            "(30, 4)\n",
            "<class 'pandas.core.frame.DataFrame'>\n",
            "RangeIndex: 30 entries, 0 to 29\n",
            "Data columns (total 4 columns):\n",
            " #   Column        Non-Null Count  Dtype  \n",
            "---  ------        --------------  -----  \n",
            " 0   accuracy      30 non-null     float64\n",
            " 1   loss          30 non-null     float64\n",
            " 2   val_accuracy  30 non-null     float64\n",
            " 3   val_loss      30 non-null     float64\n",
            "dtypes: float64(4)\n",
            "memory usage: 1.1 KB\n",
            "The Information of dataframe : \n",
            " None\n"
          ]
        }
      ]
    },
    {
      "cell_type": "code",
      "source": [
        "## Some Extra knowledge about the fit() method\n",
        "## 1. If the training set is very skewed and some classes being overrepresented and other are underrepresented the use the parameter like \"class_weight\"\n",
        "## 2. IF you need per instance weight set parameter \"sample_weight\"(if both class_weight and sample_weight are provided keras multiplies them )\n"
      ],
      "metadata": {
        "id": "sGHLWMgZ6mir"
      },
      "execution_count": null,
      "outputs": []
    },
    {
      "cell_type": "code",
      "source": [
        "## Lets plot to visulize the error\n",
        "import matplotlib.pyplot as plt\n",
        "metric_df.plot(figsize=(8,5))\n",
        "plt.grid(True)\n",
        "plt.gca().set_ylim(0,0.1) # vertical range from 0 to 1\n",
        "plt.show()"
      ],
      "metadata": {
        "colab": {
          "base_uri": "https://localhost:8080/",
          "height": 451
        },
        "id": "VSqvpa6SKvxa",
        "outputId": "691158c8-e1a9-44a3-f5da-4ac35d8a5bae"
      },
      "execution_count": null,
      "outputs": [
        {
          "output_type": "display_data",
          "data": {
            "text/plain": [
              "<Figure size 800x500 with 1 Axes>"
            ],
            "image/png": "[encoded data removed]"
          },
          "metadata": {}
        }
      ]
    },
    {
      "cell_type": "code",
      "source": [
        "## Evaluate the model\n",
        "model.evaluate(X_test,y_test)"
      ],
      "metadata": {
        "colab": {
          "base_uri": "https://localhost:8080/"
        },
        "id": "uE2ALSrSLLyK",
        "outputId": "6d3a39ff-6016-4734-d1f7-55fed0db9066"
      },
      "execution_count": null,
      "outputs": [
        {
          "output_type": "stream",
          "name": "stdout",
          "text": [
            "\u001b[1m313/313\u001b[0m \u001b[32m━━━━━━━━━━━━━━━━━━━━\u001b[0m\u001b[37m\u001b[0m \u001b[1m1s\u001b[0m 2ms/step - accuracy: 0.1001 - loss: 7502.3345\n"
          ]
        },
        {
          "output_type": "execute_result",
          "data": {
            "text/plain": [
              "[7481.4951171875, 0.10000000149011612]"
            ]
          },
          "metadata": {},
          "execution_count": 20
        }
      ]
    },
    {
      "cell_type": "markdown",
      "source": [
        "#### Making the predictions using the model\n",
        "###### It Returns the probability assigned per class using the method model.predict()\n",
        "###### It returns the class name using the method model.predict_classes()"
      ],
      "metadata": {
        "id": "HCs8u3ikLZqI"
      }
    },
    {
      "cell_type": "code",
      "source": [
        "## TO see the probability per class\n",
        "X_new = X_test[:3]\n",
        "y_proba = model.predict(X_new)\n",
        "print(y_proba.round(2))"
      ],
      "metadata": {
        "colab": {
          "base_uri": "https://localhost:8080/"
        },
        "id": "d_MIOPG2LwBR",
        "outputId": "1de77dba-a1f6-4b06-f74c-fe5561dedd31"
      },
      "execution_count": null,
      "outputs": [
        {
          "output_type": "stream",
          "name": "stdout",
          "text": [
            "\u001b[1m1/1\u001b[0m \u001b[32m━━━━━━━━━━━━━━━━━━━━\u001b[0m\u001b[37m\u001b[0m \u001b[1m0s\u001b[0m 71ms/step\n",
            "[[1. 0. 0. 0. 0. 0. 0. 0. 0. 0.]\n",
            " [1. 0. 0. 0. 0. 0. 0. 0. 0. 0.]\n",
            " [1. 0. 0. 0. 0. 0. 0. 0. 0. 0.]]\n"
          ]
        }
      ]
    },
    {
      "cell_type": "code",
      "source": [
        "## TO see the class names\n",
        "import numpy as np\n",
        "y_pred = np.argmax(y_proba,axis=1)\n",
        "print(y_pred)\n",
        "np.array(class_names)[y_pred]"
      ],
      "metadata": {
        "colab": {
          "base_uri": "https://localhost:8080/"
        },
        "id": "qXqFxj4yMPG6",
        "outputId": "cec3ad9f-887b-4d85-a301-1e8dc1a50695"
      },
      "execution_count": null,
      "outputs": [
        {
          "output_type": "stream",
          "name": "stdout",
          "text": [
            "[0 0 0]\n"
          ]
        },
        {
          "output_type": "execute_result",
          "data": {
            "text/plain": [
              "array(['T-shirt/top', 'T-shirt/top', 'T-shirt/top'], dtype='<U11')"
            ]
          },
          "metadata": {},
          "execution_count": 23
        }
      ]
    },
    {
      "cell_type": "code",
      "source": [],
      "metadata": {
        "id": "FtnozVDuMhwU"
      },
      "execution_count": null,
      "outputs": []
    },
    {
      "cell_type": "markdown",
      "source": [
        "## This is all the classification related\n",
        "###### Note : here actually model is not made correctly because of the data and the random ness which was in the notebook and on the book ."
      ],
      "metadata": {
        "id": "RpWcR5DBM3qp"
      }
    },
    {
      "cell_type": "code",
      "source": [],
      "metadata": {
        "id": "ThfKKI56NGUZ"
      },
      "execution_count": null,
      "outputs": []
    }
  ]
}